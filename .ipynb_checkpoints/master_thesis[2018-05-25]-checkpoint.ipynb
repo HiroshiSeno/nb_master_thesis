{
 "cells": [
  {
   "cell_type": "code",
   "execution_count": 3,
   "metadata": {
    "collapsed": true
   },
   "outputs": [],
   "source": [
    "import numpy as np\n",
    "import pandas as pd\n",
    "import matplotlib.pyplot as plt\n",
    "import os\n",
    "import subprocess\n",
    "%matplotlib inline"
   ]
  },
  {
   "cell_type": "markdown",
   "metadata": {},
   "source": [
    "## 温度分布シミュレーション"
   ]
  },
  {
   "cell_type": "code",
   "execution_count": 20,
   "metadata": {},
   "outputs": [],
   "source": [
    "sample = np.zeros((10, 10))\n",
    "sample[0:3,0:3] = np.identity(3)\n",
    "sample[3:,3:] = np.identity(10-3)*10"
   ]
  },
  {
   "cell_type": "code",
   "execution_count": 21,
   "metadata": {},
   "outputs": [
    {
     "data": {
      "text/plain": [
       "array([[  1.,   0.,   0.,   0.,   0.,   0.,   0.,   0.,   0.,   0.],\n",
       "       [  0.,   1.,   0.,   0.,   0.,   0.,   0.,   0.,   0.,   0.],\n",
       "       [  0.,   0.,   1.,   0.,   0.,   0.,   0.,   0.,   0.,   0.],\n",
       "       [  0.,   0.,   0.,  10.,   0.,   0.,   0.,   0.,   0.,   0.],\n",
       "       [  0.,   0.,   0.,   0.,  10.,   0.,   0.,   0.,   0.,   0.],\n",
       "       [  0.,   0.,   0.,   0.,   0.,  10.,   0.,   0.,   0.,   0.],\n",
       "       [  0.,   0.,   0.,   0.,   0.,   0.,  10.,   0.,   0.,   0.],\n",
       "       [  0.,   0.,   0.,   0.,   0.,   0.,   0.,  10.,   0.,   0.],\n",
       "       [  0.,   0.,   0.,   0.,   0.,   0.,   0.,   0.,  10.,   0.],\n",
       "       [  0.,   0.,   0.,   0.,   0.,   0.,   0.,   0.,   0.,  10.]])"
      ]
     },
     "execution_count": 21,
     "metadata": {},
     "output_type": "execute_result"
    }
   ],
   "source": [
    "sample"
   ]
  },
  {
   "cell_type": "code",
   "execution_count": 4,
   "metadata": {
    "collapsed": true
   },
   "outputs": [],
   "source": [
    "alpha_water = 0.0000001466 #水の熱拡散係数\n",
    "alpha_PDMS = \n",
    "dt = 0.001\n",
    "dx = 0.00015\n",
    "\n",
    "small_mat = np.identity(200)*(-4)+np.tri(200,200,-1)-np.tri(200,200,-2)-np.tri(200,200,0)+np.tri(200,200,1)\n",
    "def_mat = np.zeros((200*200, 200*200))\n",
    "for i in range(200):\n",
    "    for j in range(200):\n",
    "        if i == j:\n",
    "            def_mat[200*i:200*(i+1), 200*j:200*(j+1)] = small_mat\n",
    "        if i-j == 1 or i-j == -1:\n",
    "            def_mat[200*i:200*(i+1), 200*j:200*(j+1)] = np.identity(200)\n",
    "            \n",
    "alpha_mat = np.zeros((200*200, 200*200))\n",
    "alpha_mat[0:200*13, 0:200*13] = np.identity(200*13) * alpha_PDMS\n",
    "alpha_mat[200*13:, 200*13:] = np.identity(200*187) * alpha_water"
   ]
  },
  {
   "cell_type": "code",
   "execution_count": null,
   "metadata": {},
   "outputs": [
    {
     "name": "stdout",
     "output_type": "stream",
     "text": [
      "0\n",
      "1000\n"
     ]
    }
   ],
   "source": [
    "cooling_temp = 20\n",
    "time = 15000\n",
    "temp_array = np.ones((200, 200)) * 310\n",
    "temp_array[3:10, 85:115] = 273+cooling_temp\n",
    "temp_array = temp_array.flatten()\n",
    "np.save('/mnt/recordings/AnalysisResult/Seno/simulation/temp/cooling_20/temp_0000.npy', temp_array)\n",
    "\n",
    "for i in range(time):\n",
    "    if i % 1000 == 0:\n",
    "        print(i)\n",
    "    temp_array = temp_array + alpha*dt/dx/dx*np.dot(def_mat, temp_array)\n",
    "    temp_array = temp_array.reshape((200, 200))\n",
    "    temp_array[3:10, 85:115] = 273+cooling_temp\n",
    "    temp_array[0:13, :] = 298\n",
    "    temp_array[13:, :] = 310\n",
    "    temp_array[-1:13, :] = 298\n",
    "    temp_array[13:, :] = 310\n",
    "    temp_array[:,0] = 298\n",
    "    temp_array[:, -1] = 310\n",
    "    temp_array = temp_array.flatten()\n",
    "    np.save('/mnt/recordings/AnalysisResult/Seno/simulation/temp/cooling_20/temp_%s.npy' % \"{0:04d}\".format(i+1), temp_array)"
   ]
  },
  {
   "cell_type": "code",
   "execution_count": 32,
   "metadata": {
    "collapsed": true
   },
   "outputs": [],
   "source": [
    "temp = np.zeros((10, 200, 200))\n",
    "for i in range(10):\n",
    "#     temp[i] = np.load('/mnt/recordings/AnalysisResult/Seno/simulation/temp/cooling_20/temp_%s.npy' % \"{0:04d}\".format(i)).reshape((200, 200))\n",
    "    temp[i] = np.load('/mnt/recordings/SimulationResults/2D/20180411-6/cell_%s/temp.npy' % \"{0:04d}\".format(i)).reshape((200, 200))"
   ]
  },
  {
   "cell_type": "code",
   "execution_count": 33,
   "metadata": {},
   "outputs": [
    {
     "data": {
      "image/png": "[encoded data removed]",
      "text/plain": [
       "<matplotlib.figure.Figure at 0x7f18f1667110>"
      ]
     },
     "metadata": {},
     "output_type": "display_data"
    }
   ],
   "source": [
    "plt.imshow(temp[1, 90:110, 90:110])\n",
    "plt.show()"
   ]
  },
  {
   "cell_type": "code",
   "execution_count": null,
   "metadata": {
    "collapsed": true
   },
   "outputs": [],
   "source": []
  }
 ],
 "metadata": {
  "kernelspec": {
   "display_name": "Python 2",
   "language": "python",
   "name": "python2"
  },
  "language_info": {
   "codemirror_mode": {
    "name": "ipython",
    "version": 2
   },
   "file_extension": ".py",
   "mimetype": "text/x-python",
   "name": "python",
   "nbconvert_exporter": "python",
   "pygments_lexer": "ipython2",
   "version": "2.7.13"
  }
 },
 "nbformat": 4,
 "nbformat_minor": 2
}
