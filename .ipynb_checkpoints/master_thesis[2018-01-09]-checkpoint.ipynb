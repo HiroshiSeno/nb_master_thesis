{
 "cells": [
  {
   "cell_type": "code",
   "execution_count": 1,
   "metadata": {
    "collapsed": true
   },
   "outputs": [],
   "source": [
    "import numpy as np\n",
    "import matplotlib.pyplot as plt\n",
    "import os\n",
    "import subprocess\n",
    "%matplotlib inline"
   ]
  },
  {
   "cell_type": "code",
   "execution_count": 2,
   "metadata": {
    "collapsed": true
   },
   "outputs": [],
   "source": [
    "from opmap.RawCam import RawCam\n",
    "from opmap.VmemMap import VmemMap\n",
    "from opmap.PhaseMap import PhaseMap\n",
    "from opmap.PhaseVarianceMap import PhaseVarianceMap\n",
    "from opmap.util import makeMovie"
   ]
  },
  {
   "cell_type": "markdown",
   "metadata": {},
   "source": [
    "## 上冷却の解析"
   ]
  },
  {
   "cell_type": "code",
   "execution_count": 3,
   "metadata": {
    "collapsed": true
   },
   "outputs": [],
   "source": [
    "vmem1 = np.zeros((600, 200, 200))\n",
    "vmem2 = np.zeros((400, 200, 200))\n",
    "\n",
    "for i in range(600):\n",
    "    vmem1[i, :, :] = np.load('/mnt/recordings/SimulationResults/2D/20170711-6/vmem_%s.npy' % \"{0:04d}\".format(i))\n",
    "for i in range(400):\n",
    "    vmem2[i, :, :] = np.load('/mnt/recordings/SimulationResults/2D/20170714-4/vmem_%s.npy' % \"{0:04d}\".format(i))"
   ]
  },
  {
   "cell_type": "code",
   "execution_count": 4,
   "metadata": {
    "collapsed": true
   },
   "outputs": [],
   "source": [
    "vmem_u = np.concatenate([vmem1, vmem2], axis=0)"
   ]
  },
  {
   "cell_type": "code",
   "execution_count": 96,
   "metadata": {
    "collapsed": true
   },
   "outputs": [],
   "source": [
    "raw = RawCam(path='/mnt/recordings/SimulationResults/2D/20170711-6/', cam_type='numpy', image_width=200, image_height=200, frame_start=0, frame_end=10)\n",
    "raw.data = vmem_u"
   ]
  },
  {
   "cell_type": "code",
   "execution_count": 97,
   "metadata": {
    "collapsed": true
   },
   "outputs": [],
   "source": [
    "vmem = VmemMap(raw)"
   ]
  },
  {
   "cell_type": "code",
   "execution_count": 98,
   "metadata": {
    "collapsed": true
   },
   "outputs": [],
   "source": [
    "pmap = PhaseMap(vmem, shrink=2)"
   ]
  },
  {
   "cell_type": "code",
   "execution_count": 99,
   "metadata": {
    "collapsed": true
   },
   "outputs": [],
   "source": [
    "pvmap = PhaseVarianceMap(pmap, size=3)"
   ]
  },
  {
   "cell_type": "code",
   "execution_count": 100,
   "metadata": {
    "collapsed": true
   },
   "outputs": [],
   "source": [
    "core = (pvmap.data > 0.4)* 1"
   ]
  },
  {
   "cell_type": "code",
   "execution_count": 101,
   "metadata": {},
   "outputs": [],
   "source": [
    "initial_core = np.zeros((990, 100, 100))\n",
    "previous_core = np.ones((100,100))\n",
    "mask_before = np.ones((100,100))\n",
    "width=3\n",
    "\n",
    "for i in range((core.shape[0]-10)):\n",
    "    time = i+10\n",
    "    mask_after = np.zeros((100, 100))\n",
    "    \n",
    "    for j in range(core.shape[1]):\n",
    "        for k in range(core.shape[2]):\n",
    "            if previous_core[j,k] == 1:\n",
    "                mask_after[j-width:j+width, k-width:k+width] = 1\n",
    "\n",
    "    previous_core = core[time, :, :]*mask_before\n",
    "    mask_before = mask_after\n",
    "    initial_core[i,:,:] = previous_core"
   ]
  },
  {
   "cell_type": "code",
   "execution_count": 102,
   "metadata": {},
   "outputs": [],
   "source": [
    "trajectory = np.sum(initial_core[:400, :, :], axis=0)"
   ]
  },
  {
   "cell_type": "code",
   "execution_count": 107,
   "metadata": {},
   "outputs": [],
   "source": [
    "color_image = np.zeros((100,100,3))\n",
    "\n",
    "for i in range(100):\n",
    "    for j in range(100):\n",
    "        if (i-32.5)*(i-32.5)+(j-50)*(j-50) < 225:\n",
    "            color_image[i, j, 2] = 1.0\n",
    "        if (i-50)*(i-50)+(j-50)*(j-50) < 25:\n",
    "            color_image[i, j, 1] = 1.0\n",
    "        if trajectory[i,j] > 0:\n",
    "            color_image[i, j, 0] = 1.0\n",
    "            color_image[i, j, 1] = 1.0\n",
    "            color_image[i, j, 2] = 1.0"
   ]
  },
  {
   "cell_type": "code",
   "execution_count": 110,
   "metadata": {},
   "outputs": [],
   "source": [
    "plt.imsave('/mnt/recordings/AnalysisResult/Seno/simulation/Mahajan/20180107/up.png', color_image)"
   ]
  },
  {
   "cell_type": "markdown",
   "metadata": {},
   "source": [
    "## 右上冷却の解析"
   ]
  },
  {
   "cell_type": "code",
   "execution_count": 111,
   "metadata": {
    "collapsed": true
   },
   "outputs": [],
   "source": [
    "vmem1 = np.zeros((400, 200, 200))\n",
    "vmem2 = np.zeros((200, 200, 200))\n",
    "vmem3 = np.zeros((400, 200, 200))\n",
    "\n",
    "for i in range(200):\n",
    "    vmem2[i, :, :] = np.load('/mnt/recordings/SimulationResults/2D/20170713-3/vmem_%s.npy' % \"{0:04d}\".format(i))\n",
    "for i in range(400):\n",
    "    vmem1[i, :, :] = np.load('/mnt/recordings/SimulationResults/2D/20170711-5/vmem_%s.npy' % \"{0:04d}\".format(i))\n",
    "    vmem3[i, :, :] = np.load('/mnt/recordings/SimulationResults/2D/20170714-3/vmem_%s.npy' % \"{0:04d}\".format(i))\n",
    "    \n",
    "vmem_ru = np.concatenate([vmem1, vmem2, vmem3], axis=0)\n",
    "\n",
    "raw = RawCam(path='/mnt/recordings/SimulationResults/2D/20170711-6/', cam_type='numpy', image_width=200, image_height=200, frame_start=0, frame_end=10)\n",
    "raw.data = vmem_ru\n",
    "\n",
    "vmem = VmemMap(raw)\n",
    "pmap = PhaseMap(vmem, shrink=2)\n",
    "pvmap = PhaseVarianceMap(pmap, size=3)\n",
    "core = (pvmap.data > 0.4)* 1"
   ]
  },
  {
   "cell_type": "code",
   "execution_count": 112,
   "metadata": {
    "collapsed": true
   },
   "outputs": [],
   "source": [
    "initial_core = np.zeros((990, 100, 100))\n",
    "previous_core = np.ones((100,100))\n",
    "mask_before = np.ones((100,100))\n",
    "width=3\n",
    "\n",
    "for i in range((core.shape[0]-10)):\n",
    "    time = i+10\n",
    "    mask_after = np.zeros((100, 100))\n",
    "    \n",
    "    for j in range(core.shape[1]):\n",
    "        for k in range(core.shape[2]):\n",
    "            if previous_core[j,k] == 1:\n",
    "                mask_after[j-width:j+width, k-width:k+width] = 1\n",
    "\n",
    "    previous_core = core[time, :, :]*mask_before\n",
    "    mask_before = mask_after\n",
    "    initial_core[i,:,:] = previous_core\n",
    "\n",
    "trajectory = np.sum(initial_core[:400, :, :], axis=0)"
   ]
  },
  {
   "cell_type": "code",
   "execution_count": 115,
   "metadata": {
    "collapsed": true
   },
   "outputs": [],
   "source": [
    "color_image = np.zeros((100,100,3))\n",
    "\n",
    "for i in range(100):\n",
    "    for j in range(100):\n",
    "        if (i-37.5)*(i-37.5)+(j-62.5)*(j-62.5) < 225:\n",
    "            color_image[i, j, 2] = 1.0\n",
    "        if (i-50)*(i-50)+(j-50)*(j-50) < 25:\n",
    "            color_image[i, j, 1] = 1.0\n",
    "        if trajectory[i,j] > 0:\n",
    "            color_image[i, j, 0] = 1.0\n",
    "            color_image[i, j, 1] = 1.0\n",
    "            color_image[i, j, 2] = 1.0"
   ]
  },
  {
   "cell_type": "code",
   "execution_count": 117,
   "metadata": {},
   "outputs": [],
   "source": [
    "plt.imsave('/mnt/recordings/AnalysisResult/Seno/simulation/Mahajan/20180107/upper_right.png', color_image)"
   ]
  },
  {
   "cell_type": "markdown",
   "metadata": {},
   "source": [
    "## 右冷却の解析"
   ]
  },
  {
   "cell_type": "code",
   "execution_count": 118,
   "metadata": {
    "collapsed": true
   },
   "outputs": [],
   "source": [
    "vmem1 = np.zeros((400, 200, 200))\n",
    "vmem2 = np.zeros((200, 200, 200))\n",
    "vmem3 = np.zeros((400, 200, 200))\n",
    "\n",
    "for i in range(200):\n",
    "    vmem2[i, :, :] = np.load('/mnt/recordings/SimulationResults/2D/20170713-2/vmem_%s.npy' % \"{0:04d}\".format(i))\n",
    "for i in range(400):\n",
    "    vmem1[i, :, :] = np.load('/mnt/recordings/SimulationResults/2D/20170711-4/vmem_%s.npy' % \"{0:04d}\".format(i))\n",
    "    vmem3[i, :, :] = np.load('/mnt/recordings/SimulationResults/2D/20170714-2/vmem_%s.npy' % \"{0:04d}\".format(i))"
   ]
  },
  {
   "cell_type": "code",
   "execution_count": 119,
   "metadata": {
    "collapsed": true
   },
   "outputs": [],
   "source": [
    "vmem_r = np.concatenate([vmem1, vmem2, vmem3], axis=0)"
   ]
  },
  {
   "cell_type": "code",
   "execution_count": 120,
   "metadata": {},
   "outputs": [],
   "source": [
    "raw = RawCam(path='/mnt/recordings/SimulationResults/2D/20170711-6/', cam_type='numpy', image_width=200, image_height=200, frame_start=0, frame_end=10)\n",
    "raw.data = vmem_r\n",
    "vmem = VmemMap(raw)\n",
    "pmap = PhaseMap(vmem, shrink=2)\n",
    "pvmap = PhaseVarianceMap(pmap, size=3)\n",
    "core = (pvmap.data > 0.4)* 1"
   ]
  },
  {
   "cell_type": "code",
   "execution_count": 121,
   "metadata": {
    "collapsed": true
   },
   "outputs": [],
   "source": [
    "initial_core = np.zeros((990, 100, 100))\n",
    "previous_core = np.ones((100,100))\n",
    "mask_before = np.ones((100,100))\n",
    "width=3\n",
    "\n",
    "for i in range((core.shape[0]-10)):\n",
    "    time = i+10\n",
    "    mask_after = np.zeros((100, 100))\n",
    "    \n",
    "    for j in range(core.shape[1]):\n",
    "        for k in range(core.shape[2]):\n",
    "            if previous_core[j,k] == 1:\n",
    "                mask_after[j-width:j+width, k-width:k+width] = 1\n",
    "\n",
    "    previous_core = core[time, :, :]*mask_before\n",
    "    mask_before = mask_after\n",
    "    initial_core[i,:,:] = previous_core"
   ]
  },
  {
   "cell_type": "code",
   "execution_count": 122,
   "metadata": {
    "collapsed": true
   },
   "outputs": [],
   "source": [
    "trajectory = np.sum(initial_core[:400, :, :], axis=0)"
   ]
  },
  {
   "cell_type": "code",
   "execution_count": 123,
   "metadata": {
    "collapsed": true
   },
   "outputs": [],
   "source": [
    "color_image = np.zeros((100,100,3))\n",
    "\n",
    "for i in range(100):\n",
    "    for j in range(100):\n",
    "        if (i-50)*(i-50)+(j-67.5)*(j-67.5) < 225:\n",
    "            color_image[i, j, 2] = 1.0\n",
    "        if (i-50)*(i-50)+(j-50)*(j-50) < 25:\n",
    "            color_image[i, j, 1] = 1.0\n",
    "        if trajectory[i,j] > 0:\n",
    "            color_image[i, j, 0] = 1.0\n",
    "            color_image[i, j, 1] = 1.0\n",
    "            color_image[i, j, 2] = 1.0"
   ]
  },
  {
   "cell_type": "code",
   "execution_count": 126,
   "metadata": {},
   "outputs": [],
   "source": [
    "plt.imsave('/mnt/recordings/AnalysisResult/Seno/simulation/Mahajan/20180107/right.png', color_image)"
   ]
  },
  {
   "cell_type": "markdown",
   "metadata": {},
   "source": [
    "## 右下冷却の解析"
   ]
  },
  {
   "cell_type": "code",
   "execution_count": 127,
   "metadata": {
    "collapsed": true
   },
   "outputs": [],
   "source": [
    "vmem1 = np.zeros((200, 200, 200))\n",
    "vmem2 = np.zeros((200, 200, 200))\n",
    "vmem3 = np.zeros((200, 200, 200))\n",
    "vmem4 = np.zeros((400, 200, 200))\n",
    "\n",
    "for i in range(200):\n",
    "    vmem1[i, :, :] = np.load('/mnt/recordings/SimulationResults/2D/20170711-2/vmem_%s.npy' % \"{0:04d}\".format(i))\n",
    "    vmem2[i, :, :] = np.load('/mnt/recordings/SimulationResults/2D/20170711-3/vmem_%s.npy' % \"{0:04d}\".format(i))\n",
    "    vmem3[i, :, :] = np.load('/mnt/recordings/SimulationResults/2D/20170713-1/vmem_%s.npy' % \"{0:04d}\".format(i))\n",
    "for i in range(400):\n",
    "    vmem4[i, :, :] = np.load('/mnt/recordings/SimulationResults/2D/20170714-1/vmem_%s.npy' % \"{0:04d}\".format(i))"
   ]
  },
  {
   "cell_type": "code",
   "execution_count": 128,
   "metadata": {
    "collapsed": true
   },
   "outputs": [],
   "source": [
    "vmem_rd = np.concatenate([vmem1, vmem2, vmem3, vmem4], axis=0)"
   ]
  },
  {
   "cell_type": "code",
   "execution_count": 129,
   "metadata": {
    "collapsed": true
   },
   "outputs": [],
   "source": [
    "raw = RawCam(path='/mnt/recordings/SimulationResults/2D/20170711-6/', cam_type='numpy', image_width=200, image_height=200, frame_start=0, frame_end=10)\n",
    "raw.data = vmem_rd\n",
    "vmem = VmemMap(raw)\n",
    "pmap = PhaseMap(vmem, shrink=2)\n",
    "pvmap = PhaseVarianceMap(pmap, size=3)\n",
    "core = (pvmap.data > 0.4)* 1"
   ]
  },
  {
   "cell_type": "code",
   "execution_count": 130,
   "metadata": {
    "collapsed": true
   },
   "outputs": [],
   "source": [
    "initial_core = np.zeros((990, 100, 100))\n",
    "previous_core = np.ones((100,100))\n",
    "mask_before = np.ones((100,100))\n",
    "width=3\n",
    "\n",
    "for i in range((core.shape[0]-10)):\n",
    "    time = i+10\n",
    "    mask_after = np.zeros((100, 100))\n",
    "    \n",
    "    for j in range(core.shape[1]):\n",
    "        for k in range(core.shape[2]):\n",
    "            if previous_core[j,k] == 1:\n",
    "                mask_after[j-width:j+width, k-width:k+width] = 1\n",
    "\n",
    "    previous_core = core[time, :, :]*mask_before\n",
    "    mask_before = mask_after\n",
    "    initial_core[i,:,:] = previous_core"
   ]
  },
  {
   "cell_type": "code",
   "execution_count": 131,
   "metadata": {
    "collapsed": true
   },
   "outputs": [],
   "source": [
    "trajectory = np.sum(initial_core[:400, :, :], axis=0)"
   ]
  },
  {
   "cell_type": "code",
   "execution_count": 135,
   "metadata": {
    "collapsed": true
   },
   "outputs": [],
   "source": [
    "color_image = np.zeros((100,100,3))\n",
    "\n",
    "for i in range(100):\n",
    "    for j in range(100):\n",
    "        if (i-62.5)*(i-62.5)+(j-62.5)*(j-62.5) < 225:\n",
    "            color_image[i, j, 2] = 1.0\n",
    "        if (i-50)*(i-50)+(j-50)*(j-50) < 25:\n",
    "            color_image[i, j, 1] = 1.0\n",
    "        if trajectory[i,j] > 0:\n",
    "            color_image[i, j, 0] = 1.0\n",
    "            color_image[i, j, 1] = 1.0\n",
    "            color_image[i, j, 2] = 1.0"
   ]
  },
  {
   "cell_type": "code",
   "execution_count": 137,
   "metadata": {},
   "outputs": [],
   "source": [
    "plt.imsave('/mnt/recordings/AnalysisResult/Seno/simulation/Mahajan/20180107/down_right.png', color_image)"
   ]
  },
  {
   "cell_type": "code",
   "execution_count": null,
   "metadata": {
    "collapsed": true
   },
   "outputs": [],
   "source": []
  }
 ],
 "metadata": {
  "kernelspec": {
   "display_name": "Python 2",
   "language": "python",
   "name": "python2"
  },
  "language_info": {
   "codemirror_mode": {
    "name": "ipython",
    "version": 2
   },
   "file_extension": ".py",
   "mimetype": "text/x-python",
   "name": "python",
   "nbconvert_exporter": "python",
   "pygments_lexer": "ipython2",
   "version": "2.7.13"
  }
 },
 "nbformat": 4,
 "nbformat_minor": 2
}
