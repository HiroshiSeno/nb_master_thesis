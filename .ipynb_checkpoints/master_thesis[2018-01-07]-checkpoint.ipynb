{
 "cells": [
  {
   "cell_type": "code",
   "execution_count": 1,
   "metadata": {
    "collapsed": true
   },
   "outputs": [],
   "source": [
    "import numpy as np\n",
    "import matplotlib.pyplot as plt\n",
    "import os\n",
    "import subprocess\n",
    "%matplotlib inline"
   ]
  },
  {
   "cell_type": "code",
   "execution_count": 2,
   "metadata": {
    "collapsed": true
   },
   "outputs": [],
   "source": [
    "from opmap.RawCam import RawCam\n",
    "from opmap.VmemMap import VmemMap\n",
    "from opmap.PhaseMap import PhaseMap\n",
    "from opmap.PhaseVarianceMap import PhaseVarianceMap\n",
    "from opmap.util import makeMovie"
   ]
  },
  {
   "cell_type": "markdown",
   "metadata": {},
   "source": [
    "## 上冷却の解析"
   ]
  },
  {
   "cell_type": "code",
   "execution_count": 3,
   "metadata": {
    "collapsed": true
   },
   "outputs": [],
   "source": [
    "vmem1 = np.zeros((600, 200, 200))\n",
    "vmem2 = np.zeros((400, 200, 200))\n",
    "\n",
    "for i in range(600):\n",
    "    vmem1[i, :, :] = np.load('/mnt/recordings/SimulationResults/2D/20170711-6/vmem_%s.npy' % \"{0:04d}\".format(i))\n",
    "for i in range(400):\n",
    "    vmem2[i, :, :] = np.load('/mnt/recordings/SimulationResults/2D/20170714-4/vmem_%s.npy' % \"{0:04d}\".format(i))"
   ]
  },
  {
   "cell_type": "code",
   "execution_count": 4,
   "metadata": {
    "collapsed": true
   },
   "outputs": [],
   "source": [
    "vmem_u = np.concatenate([vmem1, vmem2], axis=0)"
   ]
  },
  {
   "cell_type": "code",
   "execution_count": 5,
   "metadata": {
    "collapsed": true
   },
   "outputs": [],
   "source": [
    "raw = RawCam(path='/mnt/recordings/SimulationResults/2D/20170711-6/', cam_type='numpy', image_width=200, image_height=200, frame_start=0, frame_end=10)\n",
    "raw.data = vmem_u"
   ]
  },
  {
   "cell_type": "code",
   "execution_count": 6,
   "metadata": {
    "collapsed": true
   },
   "outputs": [],
   "source": [
    "vmem = VmemMap(raw)"
   ]
  },
  {
   "cell_type": "code",
   "execution_count": 7,
   "metadata": {
    "collapsed": true
   },
   "outputs": [],
   "source": [
    "pmap = PhaseMap(vmem, shrink=2)"
   ]
  },
  {
   "cell_type": "code",
   "execution_count": 8,
   "metadata": {
    "collapsed": true
   },
   "outputs": [],
   "source": [
    "pvmap = PhaseVarianceMap(pmap, size=3)"
   ]
  },
  {
   "cell_type": "code",
   "execution_count": 29,
   "metadata": {
    "collapsed": true
   },
   "outputs": [],
   "source": [
    "core = (pvmap.data > 0.4)* 1"
   ]
  },
  {
   "cell_type": "code",
   "execution_count": 52,
   "metadata": {},
   "outputs": [],
   "source": [
    "previous_core = np.ones((100,100))\n",
    "mask_before = np.ones((100,100))\n",
    "width=1\n",
    "\n",
    "for i in range((core.shape[0]-10)):\n",
    "    time = i+10\n",
    "    mask_after = np.zeros((100, 100))\n",
    "    \n",
    "    for j in range(core.shape[1]):\n",
    "        for k in range(core.shape[2]):\n",
    "            if previous_core[j,k] == 1:\n",
    "                mask_after[j-width:j+width, k-width:k+width] = 1\n",
    "    \n",
    "    plt.imsave('/mnt/recordings/AnalysisResult/Seno/simulation/Mahajan/20180107/20170711-6/mask/%s.png' % \"{0:04d}\".format(i),\n",
    "              mask_before, cmap='gray')\n",
    "    plt.imsave('/mnt/recordings/AnalysisResult/Seno/simulation/Mahajan/20180107/20170711-6/core/%s.png' % \"{0:04d}\".format(i),\n",
    "              core[time,:,:]*mask_before, cmap='gray')\n",
    "    previous_core = core[time, :, :]*mask_before\n",
    "    mask_before = mask_after"
   ]
  },
  {
   "cell_type": "code",
   "execution_count": 51,
   "metadata": {},
   "outputs": [
    {
     "data": {
      "text/plain": [
       "1"
      ]
     },
     "execution_count": 51,
     "metadata": {},
     "output_type": "execute_result"
    }
   ],
   "source": [
    "cmd = 'ffmpeg -r 30 -y -i \"{0}/%04d.png\" -c:v libx264 -pix_fmt yuv420p -qscale 0 \"{0}/movie.mp4\"'.format('/mnt/recordings/AnalysisResult/Seno/simulation/Mahajan/20180107/20170711-6/core')\n",
    "subprocess.call(cmd, shell=True)"
   ]
  },
  {
   "cell_type": "markdown",
   "metadata": {},
   "source": [
    "## 右上冷却の解析"
   ]
  },
  {
   "cell_type": "code",
   "execution_count": 5,
   "metadata": {
    "collapsed": true
   },
   "outputs": [],
   "source": [
    "vmem1 = np.zeros((400, 200, 200))\n",
    "vmem2 = np.zeros((200, 200, 200))\n",
    "vmem3 = np.zeros((400, 200, 200))\n",
    "\n",
    "for i in range(200):\n",
    "    vmem2[i, :, :] = np.load('/mnt/recordings/SimulationResults/2D/20170713-3/vmem_%s.npy' % \"{0:04d}\".format(i))\n",
    "for i in range(400):\n",
    "    vmem1[i, :, :] = np.load('/mnt/recordings/SimulationResults/2D/20170711-5/vmem_%s.npy' % \"{0:04d}\".format(i))\n",
    "    vmem3[i, :, :] = np.load('/mnt/recordings/SimulationResults/2D/20170714-3/vmem_%s.npy' % \"{0:04d}\".format(i))"
   ]
  },
  {
   "cell_type": "code",
   "execution_count": 6,
   "metadata": {
    "collapsed": true
   },
   "outputs": [],
   "source": [
    "vmem_ru = np.concatenate([vmem1, vmem2, vmem3], axis=0)"
   ]
  },
  {
   "cell_type": "markdown",
   "metadata": {},
   "source": [
    "## 右冷却の解析"
   ]
  },
  {
   "cell_type": "code",
   "execution_count": 7,
   "metadata": {
    "collapsed": true
   },
   "outputs": [],
   "source": [
    "vmem1 = np.zeros((400, 200, 200))\n",
    "vmem2 = np.zeros((200, 200, 200))\n",
    "vmem3 = np.zeros((400, 200, 200))\n",
    "\n",
    "for i in range(200):\n",
    "    vmem2[i, :, :] = np.load('/mnt/recordings/SimulationResults/2D/20170713-2/vmem_%s.npy' % \"{0:04d}\".format(i))\n",
    "for i in range(400):\n",
    "    vmem1[i, :, :] = np.load('/mnt/recordings/SimulationResults/2D/20170711-4/vmem_%s.npy' % \"{0:04d}\".format(i))\n",
    "    vmem3[i, :, :] = np.load('/mnt/recordings/SimulationResults/2D/20170714-2/vmem_%s.npy' % \"{0:04d}\".format(i))"
   ]
  },
  {
   "cell_type": "code",
   "execution_count": 8,
   "metadata": {
    "collapsed": true
   },
   "outputs": [],
   "source": [
    "vmem_r = np.concatenate([vmem1, vmem2, vmem3], axis=0)"
   ]
  },
  {
   "cell_type": "markdown",
   "metadata": {},
   "source": [
    "## 右下冷却の解析"
   ]
  },
  {
   "cell_type": "code",
   "execution_count": 9,
   "metadata": {
    "collapsed": true
   },
   "outputs": [],
   "source": [
    "vmem1 = np.zeros((200, 200, 200))\n",
    "vmem2 = np.zeros((200, 200, 200))\n",
    "vmem3 = np.zeros((200, 200, 200))\n",
    "vmem4 = np.zeros((400, 200, 200))\n",
    "\n",
    "for i in range(200):\n",
    "    vmem1[i, :, :] = np.load('/mnt/recordings/SimulationResults/2D/20170711-2/vmem_%s.npy' % \"{0:04d}\".format(i))\n",
    "    vmem2[i, :, :] = np.load('/mnt/recordings/SimulationResults/2D/20170711-3/vmem_%s.npy' % \"{0:04d}\".format(i))\n",
    "    vmem3[i, :, :] = np.load('/mnt/recordings/SimulationResults/2D/20170713-1/vmem_%s.npy' % \"{0:04d}\".format(i))\n",
    "for i in range(400):\n",
    "    vmem4[i, :, :] = np.load('/mnt/recordings/SimulationResults/2D/20170714-1/vmem_%s.npy' % \"{0:04d}\".format(i))"
   ]
  },
  {
   "cell_type": "code",
   "execution_count": 10,
   "metadata": {
    "collapsed": true
   },
   "outputs": [],
   "source": [
    "vmem_rd = np.concatenate([vmem1, vmem2, vmem3, vmem4], axis=0)"
   ]
  }
 ],
 "metadata": {
  "kernelspec": {
   "display_name": "Python 2",
   "language": "python",
   "name": "python2"
  },
  "language_info": {
   "codemirror_mode": {
    "name": "ipython",
    "version": 2
   },
   "file_extension": ".py",
   "mimetype": "text/x-python",
   "name": "python",
   "nbconvert_exporter": "python",
   "pygments_lexer": "ipython2",
   "version": "2.7.13"
  }
 },
 "nbformat": 4,
 "nbformat_minor": 2
}
