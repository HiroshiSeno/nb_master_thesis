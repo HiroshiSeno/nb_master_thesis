{
 "cells": [
  {
   "cell_type": "code",
   "execution_count": 2,
   "metadata": {
    "collapsed": true
   },
   "outputs": [],
   "source": [
    "import numpy as np\n",
    "import matplotlib.pyplot as plt\n",
    "import os\n",
    "import subprocess\n",
    "%matplotlib inline"
   ]
  },
  {
   "cell_type": "code",
   "execution_count": 3,
   "metadata": {
    "collapsed": true
   },
   "outputs": [],
   "source": [
    "from opmap.RawCam import RawCam\n",
    "from opmap.VmemMap import VmemMap\n",
    "from opmap.PhaseMap import PhaseMap\n",
    "from opmap.PhaseVarianceMap import PhaseVarianceMap\n",
    "from opmap.util import makeMovie"
   ]
  },
  {
   "cell_type": "markdown",
   "metadata": {
    "collapsed": true
   },
   "source": [
    "# 右下線状冷却"
   ]
  },
  {
   "cell_type": "code",
   "execution_count": 7,
   "metadata": {},
   "outputs": [
    {
     "name": "stdout",
     "output_type": "stream",
     "text": [
      "0\n",
      "1\n",
      "2\n",
      "3\n",
      "4\n",
      "5\n",
      "6\n",
      "7\n",
      "8\n",
      "9\n",
      "10\n",
      "11\n",
      "12\n",
      "13\n",
      "14\n",
      "15\n"
     ]
    }
   ],
   "source": [
    "raw_temp = RawCam(path='/mnt/recordings/SimulationResults/2D/20171108-1/', cam_type='numpy', image_width=200, image_height=200, frame_start=0, frame_end=10)\n",
    "vmem_temp = VmemMap(raw_temp)\n",
    "\n",
    "for i in range(16):\n",
    "    print(i)\n",
    "    raw = RawCam(path='/mnt/recordings/SimulationResults/2D/20171225-%s/' % (i+1), cam_type='numpy', image_width=200, image_height=200, frame_start=0, frame_end=-1)\n",
    "    if not os.path.exists('/mnt/recordings/AnalysisResult/Seno/simulation/Mahajan/20180106/vmem/20171225-%s'%(i+1)):\n",
    "        os.makedirs('/mnt/recordings/AnalysisResult/Seno/simulation/Mahajan/20180106/vmem/20171225-%s'%(i+1))\n",
    "\n",
    "    for j in range(raw.data.shape[0]):\n",
    "        plt.imsave('/mnt/recordings/AnalysisResult/Seno/simulation/Mahajan/20180106/vmem/20171225-%s/%s.png'%(i+1, \"{0:04d}\".format(j)), raw.data[j, :, :], vmin=np.min(raw.data), vmax=np.max(raw.data), cmap=vmem_temp.cmap)\n",
    "\n",
    "    cmd = 'ffmpeg -r 30 -y -i \"{0}/%04d.png\" -c:v libx264 -pix_fmt yuv420p -qscale 0 \"{0}/movie.mp4\"'.format('/mnt/recordings/AnalysisResult/Seno/simulation/Mahajan/20180106/vmem/20171225-%s/' % (i+1))\n",
    "    subprocess.call(cmd, shell=True)"
   ]
  },
  {
   "cell_type": "markdown",
   "metadata": {},
   "source": [
    "# ヒートマップ"
   ]
  },
  {
   "cell_type": "code",
   "execution_count": 10,
   "metadata": {
    "collapsed": true
   },
   "outputs": [],
   "source": [
    "import seaborn as sns"
   ]
  },
  {
   "cell_type": "markdown",
   "metadata": {},
   "source": [
    "## 右下方向"
   ]
  },
  {
   "cell_type": "code",
   "execution_count": 11,
   "metadata": {
    "collapsed": true
   },
   "outputs": [],
   "source": [
    "data = [[np.nan, np.nan, np.nan, np.nan],\n",
    "        [np.nan, np.nan, np.nan, 13],\n",
    "        [np.nan, np.nan, 8, 4],\n",
    "        [np.nan, np.nan, 6, 3]]"
   ]
  },
  {
   "cell_type": "code",
   "execution_count": 12,
   "metadata": {
    "collapsed": true
   },
   "outputs": [],
   "source": [
    "sns.set(font_scale=3)\n",
    "sns.heatmap(data, annot=True, fmt=\"1.0f\", cmap='Blues_r', vmin=2, vmax=13, cbar=False)\n",
    "plt.xticks([0.5,1.5,2.5,3.5],[0.45, 1.05, 1.65, 2.25], size=30)\n",
    "plt.yticks([0.5,1.5,2.5,3.5],[-8, -6, -4, -2], size=30)\n",
    "plt.tight_layout()\n",
    "plt.savefig('/mnt/recordings/AnalysisResult/Seno/simulation/Mahajan/20180106/heatmap_rd.png', dpi=300)\n",
    "plt.close()"
   ]
  },
  {
   "cell_type": "markdown",
   "metadata": {},
   "source": [
    "## 右方向"
   ]
  },
  {
   "cell_type": "code",
   "execution_count": 13,
   "metadata": {
    "collapsed": true
   },
   "outputs": [],
   "source": [
    "data = [[np.nan, 10, 6, 3],\n",
    "        [10, 3, 2, 2],\n",
    "        [5, 3, 2, 2],\n",
    "        [5, 3, 2, 2]]"
   ]
  },
  {
   "cell_type": "code",
   "execution_count": 14,
   "metadata": {
    "collapsed": true
   },
   "outputs": [],
   "source": [
    "sns.set(font_scale=3)\n",
    "sns.heatmap(data, annot=True, fmt=\"1.0f\", cmap='Blues_r', vmin=2, vmax=13, cbar=False)\n",
    "plt.xticks([0.5,1.5,2.5,3.5],[0.45, 1.05, 1.65, 2.25], size=30)\n",
    "plt.yticks([0.5,1.5,2.5,3.5],[-8, -6, -4, -2], size=30)\n",
    "plt.tight_layout()\n",
    "plt.savefig('/mnt/recordings/AnalysisResult/Seno/simulation/Mahajan/20180106/heatmap_r.png', dpi=300)\n",
    "plt.close()"
   ]
  },
  {
   "cell_type": "markdown",
   "metadata": {},
   "source": [
    "## 右上方向"
   ]
  },
  {
   "cell_type": "code",
   "execution_count": 15,
   "metadata": {
    "collapsed": true
   },
   "outputs": [],
   "source": [
    "data = [[np.nan, np.nan, 11, np.nan],\n",
    "        [np.nan, np.nan, np.nan, np.nan],\n",
    "        [np.nan, np.nan, 9, np.nan],\n",
    "        [np.nan, 12, 7, 3]]"
   ]
  },
  {
   "cell_type": "code",
   "execution_count": 16,
   "metadata": {
    "collapsed": true
   },
   "outputs": [],
   "source": [
    "sns.set(font_scale=3)\n",
    "sns.heatmap(data, annot=True, fmt=\"1.0f\", cmap='Blues_r', vmin=2, vmax=13, cbar=False)\n",
    "plt.xticks([0.5,1.5,2.5,3.5],[0.45, 1.05, 1.65, 2.25], size=30)\n",
    "plt.yticks([0.5,1.5,2.5,3.5],[-8, -6, -4, -2], size=30)\n",
    "plt.tight_layout()\n",
    "plt.savefig('/mnt/recordings/AnalysisResult/Seno/simulation/Mahajan/20180106/heatmap_ru.png', dpi=300)\n",
    "plt.close()"
   ]
  },
  {
   "cell_type": "markdown",
   "metadata": {},
   "source": [
    "## 上方向"
   ]
  },
  {
   "cell_type": "code",
   "execution_count": 17,
   "metadata": {
    "collapsed": true
   },
   "outputs": [],
   "source": [
    "data = [[np.nan, np.nan, np.nan, np.nan],\n",
    "        [np.nan, np.nan, np.nan, np.nan],\n",
    "        [np.nan, np.nan, np.nan, np.nan],\n",
    "        [np.nan, np.nan, 7, np.nan]]"
   ]
  },
  {
   "cell_type": "code",
   "execution_count": 18,
   "metadata": {
    "collapsed": true
   },
   "outputs": [],
   "source": [
    "sns.set(font_scale=3)\n",
    "sns.heatmap(data, annot=True, fmt=\"1.0f\", cmap='Blues_r', vmin=2, vmax=13, cbar=False)\n",
    "plt.xticks([0.5,1.5,2.5,3.5],[0.45, 1.05, 1.65, 2.25], size=30)\n",
    "plt.yticks([0.5,1.5,2.5,3.5],[-8, -6, -4, -2], size=30)\n",
    "plt.tight_layout()\n",
    "plt.savefig('/mnt/recordings/AnalysisResult/Seno/simulation/Mahajan/20180106/heatmap_u.png', dpi=300)\n",
    "plt.close()"
   ]
  },
  {
   "cell_type": "code",
   "execution_count": null,
   "metadata": {
    "collapsed": true
   },
   "outputs": [],
   "source": []
  }
 ],
 "metadata": {
  "kernelspec": {
   "display_name": "Python 2",
   "language": "python",
   "name": "python2"
  },
  "language_info": {
   "codemirror_mode": {
    "name": "ipython",
    "version": 2
   },
   "file_extension": ".py",
   "mimetype": "text/x-python",
   "name": "python",
   "nbconvert_exporter": "python",
   "pygments_lexer": "ipython2",
   "version": "2.7.13"
  }
 },
 "nbformat": 4,
 "nbformat_minor": 2
}
