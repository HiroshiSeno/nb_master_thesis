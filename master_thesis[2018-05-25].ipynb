{
 "cells": [
  {
   "cell_type": "code",
   "execution_count": 1,
   "metadata": {
    "collapsed": true
   },
   "outputs": [],
   "source": [
    "import numpy as np\n",
    "import pandas as pd\n",
    "import matplotlib.pyplot as plt\n",
    "import os\n",
    "import subprocess\n",
    "from scipy.sparse import lil_matrix, csr_matrix\n",
    "%matplotlib inline"
   ]
  },
  {
   "cell_type": "markdown",
   "metadata": {},
   "source": [
    "## 温度分布シミュレーション"
   ]
  },
  {
   "cell_type": "code",
   "execution_count": 2,
   "metadata": {
    "collapsed": true
   },
   "outputs": [],
   "source": [
    "alpha_water = 0.0000001466 #水の熱拡散係数\n",
    "alpha_PDMS =  0.00000018\n",
    "dt = 0.001\n",
    "dx = 0.00015\n",
    "\n",
    "small_mat = np.identity(200)*(-4)+np.tri(200,200,-1)-np.tri(200,200,-2)-np.tri(200,200,0)+np.tri(200,200,1)\n",
    "def_mat = np.zeros((200*200, 200*200))\n",
    "for i in range(200):\n",
    "    for j in range(200):\n",
    "        if i == j:\n",
    "            def_mat[200*i:200*(i+1), 200*j:200*(j+1)] = small_mat\n",
    "        if i-j == 1 or i-j == -1:\n",
    "            def_mat[200*i:200*(i+1), 200*j:200*(j+1)] = np.identity(200)\n",
    "            \n",
    "alpha_mat = np.zeros((200*200, 200*200))\n",
    "alpha_mat[0:200*13, 0:200*13] = np.identity(200*13) * alpha_PDMS\n",
    "alpha_mat[200*13:, 200*13:] = np.identity(200*187) * alpha_water"
   ]
  },
  {
   "cell_type": "code",
   "execution_count": 3,
   "metadata": {
    "collapsed": true
   },
   "outputs": [],
   "source": [
    "def_mat_sparse = lil_matrix((200*200,200*200))\n",
    "alpha_mat_sparse = lil_matrix((200*200,200*200))\n",
    "def_mat_sparse = def_mat\n",
    "alpha_mat_sparse = alpha_mat\n",
    "alpha = alpha_mat_sparse.dot(def_mat_sparse)"
   ]
  },
  {
   "cell_type": "code",
   "execution_count": 50,
   "metadata": {},
   "outputs": [
    {
     "name": "stdout",
     "output_type": "stream",
     "text": [
      "0\n",
      "1000\n",
      "2000\n",
      "3000\n",
      "4000\n",
      "5000\n",
      "6000\n",
      "7000\n",
      "8000\n",
      "9000\n",
      "10000\n",
      "11000\n",
      "12000\n",
      "13000\n",
      "14000\n"
     ]
    }
   ],
   "source": [
    "cooling_temp = 20\n",
    "time = 15000\n",
    "temp_array = np.ones((200, 200)) * 310\n",
    "temp_array[3:10, 85:115] = 273+cooling_temp\n",
    "temp_array = temp_array.flatten()\n",
    "np.save('/mnt/recordings/AnalysisResult/Seno/simulation/temp/cooling_20/temp_0000.npy', temp_array)\n",
    "\n",
    "for i in range(time):\n",
    "    if i % 1000 == 0:\n",
    "        print(i)\n",
    "    temp_array = temp_array + dt/dx/dx*np.dot(alpha, temp_array)\n",
    "    temp_array = temp_array.reshape((200, 200))\n",
    "    temp_array[3:10, 85:115] = 273 + cooling_temp\n",
    "    temp_array[:, 0] = 310\n",
    "    temp_array[:, -1] = 310\n",
    "    temp_array[0,:] = 298\n",
    "    temp_array[-1, :] = 310\n",
    "    temp_array = temp_array.flatten()\n",
    "    np.save('/mnt/recordings/AnalysisResult/Seno/simulation/temp/cooling_20/temp_%s.npy' % \"{0:04d}\".format(i+1), temp_array)"
   ]
  },
  {
   "cell_type": "code",
   "execution_count": 16,
   "metadata": {
    "collapsed": true
   },
   "outputs": [],
   "source": [
    "temp = np.zeros((100, 200, 200))\n",
    "for i in range(100):\n",
    "#     temp[i] = np.load('/mnt/recordings/AnalysisResult/Seno/simulation/temp/cooling_20/temp_%s.npy' % \"{0:04d}\".format(i)).reshape((200, 200))\n",
    "    temp[i] = np.load('/mnt/recordings/AnalysisResult/Seno/simulation/temp/cooling_20/temp_%s.npy' % \"{0:04d}\".format(i)).reshape((200, 200))"
   ]
  },
  {
   "cell_type": "code",
   "execution_count": 38,
   "metadata": {},
   "outputs": [
    {
     "data": {
      "image/png": "[encoded data removed]",
      "text/plain": [
       "<matplotlib.figure.Figure at 0x7f1037b6da10>"
      ]
     },
     "metadata": {},
     "output_type": "display_data"
    }
   ],
   "source": [
    "plt.imshow(temp[80, 0:40, 80:120])\n",
    "plt.colorbar()\n",
    "plt.show()"
   ]
  },
  {
   "cell_type": "code",
   "execution_count": null,
   "metadata": {
    "collapsed": true
   },
   "outputs": [],
   "source": []
  }
 ],
 "metadata": {
  "kernelspec": {
   "display_name": "Python 2",
   "language": "python",
   "name": "python2"
  },
  "language_info": {
   "codemirror_mode": {
    "name": "ipython",
    "version": 2
   },
   "file_extension": ".py",
   "mimetype": "text/x-python",
   "name": "python",
   "nbconvert_exporter": "python",
   "pygments_lexer": "ipython2",
   "version": "2.7.13"
  }
 },
 "nbformat": 4,
 "nbformat_minor": 2
}
