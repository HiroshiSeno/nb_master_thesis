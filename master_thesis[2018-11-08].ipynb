{
 "cells": [
  {
   "cell_type": "code",
   "execution_count": 1,
   "metadata": {
    "collapsed": true
   },
   "outputs": [],
   "source": [
    "import numpy as np\n",
    "import pandas as pd\n",
    "import matplotlib.pyplot as plt\n",
    "import os\n",
    "import scipy\n",
    "import subprocess\n",
    "%matplotlib inline"
   ]
  },
  {
   "cell_type": "markdown",
   "metadata": {},
   "source": [
    "# 冷却実験解析"
   ]
  },
  {
   "cell_type": "code",
   "execution_count": 2,
   "metadata": {
    "collapsed": true
   },
   "outputs": [],
   "source": [
    "from opmap.RawCam import RawCam\n",
    "from opmap.VmemMap import VmemMap\n",
    "from opmap.PhaseMap import PhaseMap\n",
    "from opmap.PhaseVarianceMap import PhaseVarianceMap\n",
    "from opmap.util import makeMovie"
   ]
  },
  {
   "cell_type": "code",
   "execution_count": 3,
   "metadata": {
    "collapsed": true
   },
   "outputs": [],
   "source": [
    "def FFT(vmem_1d, N, dt, fc_low=None, fc_high=None):\n",
    "    fq = np.linspace(0, 1.0/dt, N)\n",
    "    F = np.fft.fft(vmem_1d)\n",
    "    if fc_low is not None:\n",
    "        F[(fq <= fc_low)] = 0\n",
    "    if fc_high is not None:\n",
    "        F[(fq >= fc_high)] = 0\n",
    "    \n",
    "    F_abs = np.abs(F)\n",
    "    F_abs_amp = F_abs/N\n",
    "#     F_abs_amp[0] = F_abs_amp[0]/2\n",
    "    F_abs_amp[0] = 0\n",
    "    \n",
    "    F_ifft = np.fft.ifft(F)\n",
    "    F_ifft_real = F_ifft.real * 2\n",
    "    \n",
    "    return F_ifft_real"
   ]
  },
  {
   "cell_type": "markdown",
   "metadata": {},
   "source": [
    "## APD延長効果の確認"
   ]
  },
  {
   "cell_type": "markdown",
   "metadata": {},
   "source": [
    "### BCL 400ms"
   ]
  },
  {
   "cell_type": "markdown",
   "metadata": {},
   "source": [
    "#### 20181106-1/C001H001S0010 (冷却なし)"
   ]
  },
  {
   "cell_type": "code",
   "execution_count": 57,
   "metadata": {
    "collapsed": true
   },
   "outputs": [],
   "source": [
    "data_path = '/mnt/recordings/ExperimentData/20181106-1/C001H001S0010/'\n",
    "start = 300\n",
    "end = 500\n",
    "date = data_path.split('/')[-3]\n",
    "session_name = data_path.split('/')[-2]\n",
    "save_parent = os.path.join('/mnt/Omer/Project/03.LinearRegionalCooling/AnalysisResult/Experiment/', '%s/%s/%s-%s' % (date, session_name, start, end))"
   ]
  },
  {
   "cell_type": "code",
   "execution_count": 58,
   "metadata": {
    "collapsed": true
   },
   "outputs": [],
   "source": [
    "raw1 = RawCam(path=data_path, cam_type='sa4',\n",
    "              image_width=128, image_height=128, frame_start=start, frame_end=end)\n",
    "raw1.setIntROI(400)\n",
    "# raw.setRectROI(left=30)\n",
    "# raw.morphROI(closing=10)\n",
    "# raw.morphROI(erosion=3)"
   ]
  },
  {
   "cell_type": "code",
   "execution_count": 6,
   "metadata": {
    "collapsed": true
   },
   "outputs": [],
   "source": [
    "raw1.showFrame(0)\n",
    "plt.plot(70, 70, 'o', color='blue')\n",
    "\n",
    "plt.savefig('/mnt/Omer/Project/03.LinearRegionalCooling/AnalysisResult/Experiment/20181106-1/Detected_point.png', dpi=600)\n",
    "plt.close()"
   ]
  },
  {
   "cell_type": "code",
   "execution_count": 7,
   "metadata": {},
   "outputs": [
    {
     "data": {
      "image/png": "[encoded data removed]",
      "text/plain": [
       "<matplotlib.figure.Figure at 0x7fb99bb8fe10>"
      ]
     },
     "metadata": {},
     "output_type": "display_data"
    }
   ],
   "source": [
    "raw1.showROI()"
   ]
  },
  {
   "cell_type": "code",
   "execution_count": 59,
   "metadata": {
    "collapsed": true
   },
   "outputs": [],
   "source": [
    "vmem1 = VmemMap(raw1)\n",
    "# vmem1.setDiffRange(diff_min=20)\n",
    "# vmem1.morphROI(closing=4)\n",
    "# vmem1.morphROI(erosion=4)\n",
    "vmem1.smooth(size=2)\n",
    "\n",
    "for i in range(vmem1.data.shape[1]):\n",
    "    for j in range(vmem1.data.shape[2]):\n",
    "#         vmem1.data[:, i, j] = FFT(vmem1.data[:, i, j], vmem1.data.shape[0], 0.002, fc_low=1, fc_high=20)\n",
    "        im_range = (np.max(vmem1.data[:, i, j]) - np.min(vmem1.data[:, i, j])) + (np.max(vmem1.data[:, i, j]) == np.min(vmem1.data[:, i, j])) * 1\n",
    "        vmem1.data[:, i, j] = 2.0 * (vmem1.data[:, i, j] - np.min(vmem1.data[:, i, j])) / im_range - 1.0\n",
    "\n",
    "vmem1.data = vmem1.data * vmem1.roi"
   ]
  },
  {
   "cell_type": "code",
   "execution_count": 64,
   "metadata": {},
   "outputs": [],
   "source": [
    "v = vmem1.data[50:175, 70, 70]\n",
    "plt.plot((v - np.min(v))/(np.max(v)-np.min(v)))\n",
    "\n",
    "plt.xlim([0, 125])\n",
    "plt.ylim([0, 1])\n",
    "\n",
    "plt.xticks([0, 25, 50, 75, 100, 125], [0, 50, 100, 150, 200, 250], size=14)\n",
    "plt.yticks(size=14)\n",
    "\n",
    "plt.xlabel('Time (ms)', size=14)\n",
    "plt.ylabel('Normalized Membrane potential (a.u.)', size=14)\n",
    "\n",
    "plt.tight_layout()\n",
    "plt.savefig('/mnt/Omer/Project/03.LinearRegionalCooling/AnalysisResult/Experiment/membrane_cooling_experiment.png', dpi=600)\n",
    "plt.close()"
   ]
  },
  {
   "cell_type": "code",
   "execution_count": 79,
   "metadata": {},
   "outputs": [
    {
     "data": {
      "text/plain": [
       "0"
      ]
     },
     "execution_count": 79,
     "metadata": {},
     "output_type": "execute_result"
    }
   ],
   "source": [
    "if not os.path.exists(os.path.join(save_parent, 'vmem')):\n",
    "    os.makedirs(os.path.join(save_parent, 'vmem'))\n",
    "\n",
    "vmem1.saveImage(os.path.join(save_parent, 'vmem'), img_type='png', skip=1)\n",
    "cmd = 'ffmpeg -r 60 -y -i \"{0}/vmem/%06d.png\" -c:v libx264 -pix_fmt yuv420p -qscale 0 \"{0}/vmem_movie.mp4\"'.format(save_parent)\n",
    "subprocess.call(cmd, shell=True)"
   ]
  },
  {
   "cell_type": "markdown",
   "metadata": {},
   "source": [
    "#### 20181106-1/C001H001S0015 (冷却あり)"
   ]
  },
  {
   "cell_type": "code",
   "execution_count": 11,
   "metadata": {
    "collapsed": true
   },
   "outputs": [],
   "source": [
    "data_path = '/mnt/recordings/ExperimentData/20181106-1/C001H001S0015/'\n",
    "start = 4000\n",
    "end = -1\n",
    "date = data_path.split('/')[-3]\n",
    "session_name = data_path.split('/')[-2]\n",
    "save_parent = os.path.join('/mnt/Omer/Project/03.LinearRegionalCooling/AnalysisResult/Experiment/', '%s/%s/%s-%s' % (date, session_name, start, end))"
   ]
  },
  {
   "cell_type": "code",
   "execution_count": 18,
   "metadata": {
    "collapsed": true
   },
   "outputs": [],
   "source": [
    "raw2 = RawCam(path=data_path, cam_type='sa4',\n",
    "              image_width=128, image_height=128, frame_start=start, frame_end=end)\n",
    "raw2.setIntROI(140)\n",
    "raw2.setRectROI(left=30)\n",
    "# raw.morphROI(closing=10)\n",
    "# raw.morphROI(erosion=3)"
   ]
  },
  {
   "cell_type": "code",
   "execution_count": 19,
   "metadata": {},
   "outputs": [
    {
     "data": {
      "image/png": "[encoded data removed]",
      "text/plain": [
       "<matplotlib.figure.Figure at 0x7f7d4e9ba1d0>"
      ]
     },
     "metadata": {},
     "output_type": "display_data"
    }
   ],
   "source": [
    "raw2.showROI()"
   ]
  },
  {
   "cell_type": "code",
   "execution_count": 29,
   "metadata": {
    "collapsed": true
   },
   "outputs": [],
   "source": [
    "vmem2 = VmemMap(raw2)\n",
    "vmem2.setDiffRange(diff_min=50)\n",
    "vmem2.morphROI(closing=3)\n",
    "vmem2.morphROI(erosion=3)\n",
    "\n",
    "vmem2.smooth(size=9)\n",
    "\n",
    "for i in range(vmem2.data.shape[1]):\n",
    "    for j in range(vmem2.data.shape[2]):\n",
    "        vmem2.data[:, i, j] = FFT(vmem2.data[:, i, j], vmem2.data.shape[0], 0.002, fc_low=1, fc_high=50)\n",
    "        im_range = (np.max(vmem2.data[:, i, j]) - np.min(vmem2.data[:, i, j])) + (np.max(vmem2.data[:, i, j]) == np.min(vmem2.data[:, i, j])) * 1\n",
    "        vmem2.data[:, i, j] = 2.0 * (vmem2.data[:, i, j] - np.min(vmem2.data[:, i, j])) / im_range - 1.0\n",
    "\n",
    "vmem2.data = vmem2.data * vmem2.roi"
   ]
  },
  {
   "cell_type": "code",
   "execution_count": 30,
   "metadata": {},
   "outputs": [
    {
     "data": {
      "image/png": "[encoded data removed]",
      "text/plain": [
       "<matplotlib.figure.Figure at 0x7f7d530c4390>"
      ]
     },
     "metadata": {},
     "output_type": "display_data"
    }
   ],
   "source": [
    "vmem2.showROI()"
   ]
  },
  {
   "cell_type": "code",
   "execution_count": 31,
   "metadata": {},
   "outputs": [
    {
     "data": {
      "text/plain": [
       "(0, 1000)"
      ]
     },
     "execution_count": 31,
     "metadata": {},
     "output_type": "execute_result"
    },
    {
     "data": {
      "image/png": "[encoded data removed]",
      "text/plain": [
       "<matplotlib.figure.Figure at 0x7f7d52f4be50>"
      ]
     },
     "metadata": {},
     "output_type": "display_data"
    }
   ],
   "source": [
    "plt.plot(vmem2.data[:, 60, 100])\n",
    "plt.xlim([0, 1000])"
   ]
  },
  {
   "cell_type": "code",
   "execution_count": 32,
   "metadata": {},
   "outputs": [
    {
     "data": {
      "text/plain": [
       "0"
      ]
     },
     "execution_count": 32,
     "metadata": {},
     "output_type": "execute_result"
    }
   ],
   "source": [
    "if not os.path.exists(os.path.join(save_parent, 'vmem')):\n",
    "    os.makedirs(os.path.join(save_parent, 'vmem'))\n",
    "\n",
    "vmem2.saveImage(os.path.join(save_parent, 'vmem'), img_type='png', skip=1)\n",
    "cmd = 'ffmpeg -r 60 -y -i \"{0}/vmem/%06d.png\" -c:v libx264 -pix_fmt yuv420p -qscale 0 \"{0}/vmem_movie.mp4\"'.format(save_parent)\n",
    "subprocess.call(cmd, shell=True)"
   ]
  },
  {
   "cell_type": "markdown",
   "metadata": {},
   "source": [
    "#### 20181106-1/C001H001S0016 (冷却あり)"
   ]
  },
  {
   "cell_type": "code",
   "execution_count": 40,
   "metadata": {
    "collapsed": true
   },
   "outputs": [],
   "source": [
    "data_path = '/mnt/recordings/ExperimentData/20181106-1/C001H001S0016/'\n",
    "start = 4000\n",
    "end = -1\n",
    "date = data_path.split('/')[-3]\n",
    "session_name = data_path.split('/')[-2]\n",
    "save_parent = os.path.join('/mnt/Omer/Project/03.LinearRegionalCooling/AnalysisResult/Experiment/', '%s/%s/%s-%s' % (date, session_name, start, end))"
   ]
  },
  {
   "cell_type": "code",
   "execution_count": 49,
   "metadata": {
    "collapsed": true
   },
   "outputs": [],
   "source": [
    "raw3 = RawCam(path=data_path, cam_type='sa4',\n",
    "              image_width=128, image_height=128, frame_start=start, frame_end=end)\n",
    "raw3.setIntROI(150)\n",
    "raw3.setRectROI(left=30)\n",
    "# raw.morphROI(closing=10)\n",
    "# raw.morphROI(erosion=3)"
   ]
  },
  {
   "cell_type": "code",
   "execution_count": 50,
   "metadata": {},
   "outputs": [
    {
     "data": {
      "image/png": "[encoded data removed]",
      "text/plain": [
       "<matplotlib.figure.Figure at 0x7f7d52fdcf90>"
      ]
     },
     "metadata": {},
     "output_type": "display_data"
    }
   ],
   "source": [
    "raw3.showROI()"
   ]
  },
  {
   "cell_type": "code",
   "execution_count": 60,
   "metadata": {
    "collapsed": true
   },
   "outputs": [],
   "source": [
    "vmem3 = VmemMap(raw3)\n",
    "vmem3.setDiffRange(diff_min=20)\n",
    "# vmem3.morphROI(closing=3)\n",
    "# vmem3.morphROI(erosion=3)\n",
    "\n",
    "vmem3.smooth(size=9)\n",
    "\n",
    "for i in range(vmem3.data.shape[1]):\n",
    "    for j in range(vmem3.data.shape[2]):\n",
    "        vmem3.data[:, i, j] = FFT(vmem3.data[:, i, j], vmem3.data.shape[0], 0.002, fc_low=1, fc_high=50)\n",
    "        im_range = (np.max(vmem3.data[:, i, j]) - np.min(vmem3.data[:, i, j])) + (np.max(vmem3.data[:, i, j]) == np.min(vmem3.data[:, i, j])) * 1\n",
    "        vmem3.data[:, i, j] = 2.0 * (vmem3.data[:, i, j] - np.min(vmem3.data[:, i, j])) / im_range - 1.0\n",
    "\n",
    "vmem3.data = vmem3.data * vmem3.roi"
   ]
  },
  {
   "cell_type": "code",
   "execution_count": 58,
   "metadata": {},
   "outputs": [
    {
     "data": {
      "image/png": "[encoded data removed]",
      "text/plain": [
       "<matplotlib.figure.Figure at 0x7f7d5a800e10>"
      ]
     },
     "metadata": {},
     "output_type": "display_data"
    }
   ],
   "source": [
    "vmem3.showROI()"
   ]
  },
  {
   "cell_type": "code",
   "execution_count": 61,
   "metadata": {},
   "outputs": [
    {
     "data": {
      "text/plain": [
       "(0, 1000)"
      ]
     },
     "execution_count": 61,
     "metadata": {},
     "output_type": "execute_result"
    },
    {
     "data": {
      "image/png": "[encoded data removed]",
      "text/plain": [
       "<matplotlib.figure.Figure at 0x7f7d4e9efc50>"
      ]
     },
     "metadata": {},
     "output_type": "display_data"
    }
   ],
   "source": [
    "plt.plot(vmem3.data[:, 60, 70], color='b')\n",
    "plt.plot(vmem3.data[:, 60, 100], color='g')\n",
    "plt.xlim([0, 1000])"
   ]
  },
  {
   "cell_type": "code",
   "execution_count": 62,
   "metadata": {},
   "outputs": [
    {
     "data": {
      "text/plain": [
       "0"
      ]
     },
     "execution_count": 62,
     "metadata": {},
     "output_type": "execute_result"
    }
   ],
   "source": [
    "if not os.path.exists(os.path.join(save_parent, 'vmem')):\n",
    "    os.makedirs(os.path.join(save_parent, 'vmem'))\n",
    "\n",
    "vmem3.saveImage(os.path.join(save_parent, 'vmem'), img_type='png', skip=1)\n",
    "cmd = 'ffmpeg -r 60 -y -i \"{0}/vmem/%06d.png\" -c:v libx264 -pix_fmt yuv420p -qscale 0 \"{0}/vmem_movie.mp4\"'.format(save_parent)\n",
    "subprocess.call(cmd, shell=True)"
   ]
  },
  {
   "cell_type": "markdown",
   "metadata": {},
   "source": [
    "#### 20181106-1/C001H001S0017 (冷却あり)"
   ]
  },
  {
   "cell_type": "code",
   "execution_count": 10,
   "metadata": {
    "collapsed": true
   },
   "outputs": [],
   "source": [
    "data_path = '/mnt/recordings/ExperimentData/20181106-1/C001H001S0017/'\n",
    "start = 4000\n",
    "end = -1\n",
    "date = data_path.split('/')[-3]\n",
    "session_name = data_path.split('/')[-2]\n",
    "save_parent = os.path.join('/mnt/Omer/Project/03.LinearRegionalCooling/AnalysisResult/Experiment/', '%s/%s/%s-%s' % (date, session_name, start, end))"
   ]
  },
  {
   "cell_type": "code",
   "execution_count": 11,
   "metadata": {
    "collapsed": true
   },
   "outputs": [],
   "source": [
    "raw4 = RawCam(path=data_path, cam_type='sa4',\n",
    "              image_width=128, image_height=128, frame_start=start, frame_end=end)\n",
    "raw4.setIntROI(120)\n",
    "raw4.setRectROI(left=30)\n",
    "# raw.morphROI(closing=10)\n",
    "# raw.morphROI(erosion=3)"
   ]
  },
  {
   "cell_type": "code",
   "execution_count": 12,
   "metadata": {},
   "outputs": [
    {
     "data": {
      "image/png": "[encoded data removed]",
      "text/plain": [
       "<matplotlib.figure.Figure at 0x7fb996354710>"
      ]
     },
     "metadata": {},
     "output_type": "display_data"
    }
   ],
   "source": [
    "raw4.showROI()"
   ]
  },
  {
   "cell_type": "code",
   "execution_count": 13,
   "metadata": {
    "collapsed": true
   },
   "outputs": [],
   "source": [
    "vmem4 = VmemMap(raw4)\n",
    "vmem4.setDiffRange(diff_min=20)\n",
    "# vmem4.morphROI(closing=4)\n",
    "# vmem4.morphROI(erosion=6)\n",
    "\n",
    "vmem4.smooth(size=9)\n",
    "\n",
    "for i in range(vmem4.data.shape[1]):\n",
    "    for j in range(vmem4.data.shape[2]):\n",
    "        vmem4.data[:, i, j] = FFT(vmem4.data[:, i, j], vmem4.data.shape[0], 0.002, fc_low=1, fc_high=20)\n",
    "        im_range = (np.max(vmem4.data[:, i, j]) - np.min(vmem4.data[:, i, j])) + (np.max(vmem4.data[:, i, j]) == np.min(vmem4.data[:, i, j])) * 1\n",
    "        vmem4.data[:, i, j] = 2.0 * (vmem4.data[:, i, j] - np.min(vmem4.data[:, i, j])) / im_range - 1.0\n",
    "\n",
    "vmem4.data = vmem4.data * vmem4.roi"
   ]
  },
  {
   "cell_type": "code",
   "execution_count": 14,
   "metadata": {},
   "outputs": [
    {
     "data": {
      "image/png": "[encoded data removed]",
      "text/plain": [
       "<matplotlib.figure.Figure at 0x7fb99da53290>"
      ]
     },
     "metadata": {},
     "output_type": "display_data"
    }
   ],
   "source": [
    "vmem4.showROI()"
   ]
  },
  {
   "cell_type": "code",
   "execution_count": 76,
   "metadata": {},
   "outputs": [
    {
     "data": {
      "text/plain": [
       "[<matplotlib.lines.Line2D at 0x7f1217846790>]"
      ]
     },
     "execution_count": 76,
     "metadata": {},
     "output_type": "execute_result"
    },
    {
     "data": {
      "image/png": "[encoded data removed]",
      "text/plain": [
       "<matplotlib.figure.Figure at 0x7f1217896b50>"
      ]
     },
     "metadata": {},
     "output_type": "display_data"
    }
   ],
   "source": [
    "plt.plot(vmem4.data[:, 70, 70])"
   ]
  },
  {
   "cell_type": "code",
   "execution_count": 15,
   "metadata": {},
   "outputs": [
    {
     "data": {
      "text/plain": [
       "[<matplotlib.lines.Line2D at 0x7fb9a5a20e10>]"
      ]
     },
     "execution_count": 15,
     "metadata": {},
     "output_type": "execute_result"
    },
    {
     "data": {
      "image/png": "[encoded data removed]",
      "text/plain": [
       "<matplotlib.figure.Figure at 0x7fb99da53690>"
      ]
     },
     "metadata": {},
     "output_type": "display_data"
    }
   ],
   "source": [
    "vmem_w_cooling = vmem4.data[715:915, 70, 70]\n",
    "plt.plot(vmem_w_cooling)"
   ]
  },
  {
   "cell_type": "code",
   "execution_count": 83,
   "metadata": {},
   "outputs": [
    {
     "data": {
      "text/plain": [
       "0"
      ]
     },
     "execution_count": 83,
     "metadata": {},
     "output_type": "execute_result"
    }
   ],
   "source": [
    "if not os.path.exists(os.path.join(save_parent, 'vmem')):\n",
    "    os.makedirs(os.path.join(save_parent, 'vmem'))\n",
    "\n",
    "vmem4.saveImage(os.path.join(save_parent, 'vmem'), img_type='png', skip=1)\n",
    "cmd = 'ffmpeg -r 60 -y -i \"{0}/vmem/%06d.png\" -c:v libx264 -pix_fmt yuv420p -qscale 0 \"{0}/vmem_movie.mp4\"'.format(save_parent)\n",
    "subprocess.call(cmd, shell=True)"
   ]
  },
  {
   "cell_type": "code",
   "execution_count": 24,
   "metadata": {
    "collapsed": true
   },
   "outputs": [],
   "source": [
    "plt.subplot(2,1,1)\n",
    "plt.plot((vmem_wo_cooling-np.min(vmem_wo_cooling))/(np.max(vmem_wo_cooling)-np.min(vmem_wo_cooling)), color='g', label='w/o cooling')\n",
    "plt.title(\"w/o cooling\", size=20)\n",
    "plt.xticks([])\n",
    "plt.yticks(size=16)\n",
    "plt.xlim([0, 200])\n",
    "plt.ylim([0, 1.02])\n",
    "\n",
    "\n",
    "plt.subplot(2,1,2)\n",
    "plt.plot((vmem_w_cooling-np.min(vmem_w_cooling))/(np.max(vmem_w_cooling)-np.min(vmem_w_cooling)), color='b', label='w/ cooling')\n",
    "plt.title(\"w/ cooling\", size=20)\n",
    "plt.xticks([0, 50, 100, 150, 200], [0, 100, 200, 300, 400], size=16)\n",
    "plt.yticks(size=16)\n",
    "\n",
    "plt.xlim([0, 200])\n",
    "plt.ylim([0, 1.02])\n",
    "\n",
    "# plt.xlabel(\"Time (ms)\", size=14)\n",
    "# plt.ylabel('Normalized membrane potential (a.u.)', size=14)\n",
    "\n",
    "plt.tight_layout()\n",
    "\n",
    "plt.savefig('/mnt/Omer/Project/03.LinearRegionalCooling/AnalysisResult/Experiment/20181106-1/APD_BCL400_lf1_hf20.png', dpi=600)\n",
    "plt.close()"
   ]
  },
  {
   "cell_type": "code",
   "execution_count": 107,
   "metadata": {
    "collapsed": true
   },
   "outputs": [],
   "source": [
    "a = (vmem_wo_cooling-np.min(vmem_wo_cooling))/(np.max(vmem_wo_cooling)-np.min(vmem_wo_cooling))\n",
    "\n",
    "flg = 0\n",
    "start = 0\n",
    "end = 0\n",
    "\n",
    "\n",
    "for i in range(a.shape[0]):\n",
    "    if flg == 0 and a[i] >= 0.1:\n",
    "        flg = 1\n",
    "        start = i\n",
    "    if flg == 1 and a[i] <= 0.1:\n",
    "        flg = 0\n",
    "        end = i\n",
    "        pass"
   ]
  },
  {
   "cell_type": "code",
   "execution_count": 111,
   "metadata": {},
   "outputs": [
    {
     "data": {
      "text/plain": [
       "208"
      ]
     },
     "execution_count": 111,
     "metadata": {},
     "output_type": "execute_result"
    }
   ],
   "source": [
    "(end-start)*2"
   ]
  },
  {
   "cell_type": "code",
   "execution_count": 27,
   "metadata": {
    "collapsed": true
   },
   "outputs": [],
   "source": [
    "b = (vmem_w_cooling-np.min(vmem_w_cooling))/(np.max(vmem_w_cooling)-np.min(vmem_w_cooling))\n",
    "\n",
    "flg = 0\n",
    "start = 0\n",
    "end = 0\n",
    "\n",
    "\n",
    "for i in range(b.shape[0]):\n",
    "    if flg == 0 and b[i] >= 0.1:\n",
    "        flg = 1\n",
    "        start = i\n",
    "    if flg == 1 and b[i] <= 0.1:\n",
    "        flg = 0\n",
    "        end = i\n",
    "        break"
   ]
  },
  {
   "cell_type": "code",
   "execution_count": 30,
   "metadata": {},
   "outputs": [
    {
     "data": {
      "text/plain": [
       "238"
      ]
     },
     "execution_count": 30,
     "metadata": {},
     "output_type": "execute_result"
    }
   ],
   "source": [
    "(end-start)*2"
   ]
  },
  {
   "cell_type": "markdown",
   "metadata": {},
   "source": [
    "## 旋回に対する冷却"
   ]
  },
  {
   "cell_type": "markdown",
   "metadata": {},
   "source": [
    "### 20181106-1/C001H001S0018 (40~50秒で停止)"
   ]
  },
  {
   "cell_type": "code",
   "execution_count": 19,
   "metadata": {
    "collapsed": true
   },
   "outputs": [],
   "source": [
    "data_path = '/mnt/recordings/ExperimentData/20181106-1/C001H001S0018/'\n",
    "start = 20200\n",
    "end = 21200\n",
    "date = data_path.split('/')[-3]\n",
    "session_name = data_path.split('/')[-2]\n",
    "save_parent = os.path.join('/mnt/Omer/Project/03.LinearRegionalCooling/AnalysisResult/Experiment/', '%s/%s/%s-%s' % (date, session_name, start, end))"
   ]
  },
  {
   "cell_type": "code",
   "execution_count": 20,
   "metadata": {
    "collapsed": true
   },
   "outputs": [],
   "source": [
    "raw = RawCam(path=data_path, cam_type='sa4',\n",
    "             image_width=128, image_height=128, frame_start=start, frame_end=end)\n",
    "raw.setIntROI(150)\n",
    "raw.setRectROI(left=30)\n",
    "# raw.morphROI(closing=10)\n",
    "# raw.morphROI(erosion=3)"
   ]
  },
  {
   "cell_type": "code",
   "execution_count": 21,
   "metadata": {},
   "outputs": [],
   "source": [
    "raw.showFrame(0)\n",
    "plt.plot(70, 70, 'o', color='blue')\n",
    "plt.plot(100, 60, 'o', color='green')\n",
    "\n",
    "plt.savefig('/mnt/Omer/Project/03.LinearRegionalCooling/AnalysisResult/Experiment/20181106-1/Detected_point.png', dpi=600)\n",
    "plt.close()"
   ]
  },
  {
   "cell_type": "code",
   "execution_count": 22,
   "metadata": {},
   "outputs": [
    {
     "data": {
      "image/png": "[encoded data removed]",
      "text/plain": [
       "<matplotlib.figure.Figure at 0x7fe6b4ba7b50>"
      ]
     },
     "metadata": {},
     "output_type": "display_data"
    }
   ],
   "source": [
    "raw.showROI()"
   ]
  },
  {
   "cell_type": "code",
   "execution_count": 23,
   "metadata": {},
   "outputs": [
    {
     "data": {
      "text/plain": [
       "0"
      ]
     },
     "execution_count": 23,
     "metadata": {},
     "output_type": "execute_result"
    }
   ],
   "source": [
    "if not os.path.exists(os.path.join(save_parent, 'raw')):\n",
    "    os.makedirs(os.path.join(save_parent, 'raw'))\n",
    "\n",
    "raw.saveImage(os.path.join(save_parent, 'raw'), img_type='png', skip=1)\n",
    "cmd = 'ffmpeg -r 60 -y -i \"{0}/raw/%06d.png\" -c:v libx264 -pix_fmt yuv420p -qscale 0 \"{0}/raw_movie.mp4\"'.format(save_parent)\n",
    "subprocess.call(cmd, shell=True)"
   ]
  },
  {
   "cell_type": "code",
   "execution_count": 24,
   "metadata": {
    "collapsed": true
   },
   "outputs": [],
   "source": [
    "vmem = VmemMap(raw)\n",
    "vmem.setDiffRange(diff_min=20)\n",
    "# vmem.morphROI(closing=4)\n",
    "# vmem.morphROI(erosion=4)\n",
    "\n",
    "vmem.smooth(size=3)\n",
    "\n",
    "for i in range(vmem.data.shape[1]):\n",
    "    for j in range(vmem.data.shape[2]):\n",
    "        vmem.data[:, i, j] = FFT(vmem.data[:, i, j], vmem.data.shape[0], 0.002, fc_low=4, fc_high=50)\n",
    "#         im_range = (np.max(vmem.data[:, i, j]) - np.min(vmem.data[:, i, j])) + (np.max(vmem.data[:, i, j]) == np.min(vmem.data[:, i, j])) * 1\n",
    "#         vmem.data[:, i, j] = 2.0 * (vmem.data[:, i, j] - np.min(vmem.data[:, i, j])) / im_range - 1.0\n",
    "\n",
    "vmem.data = vmem.data * vmem.roi"
   ]
  },
  {
   "cell_type": "code",
   "execution_count": 9,
   "metadata": {},
   "outputs": [
    {
     "data": {
      "image/png": "[encoded data removed]",
      "text/plain": [
       "<matplotlib.figure.Figure at 0x7fe6b4e1c750>"
      ]
     },
     "metadata": {},
     "output_type": "display_data"
    }
   ],
   "source": [
    "vmem.showROI()"
   ]
  },
  {
   "cell_type": "code",
   "execution_count": 10,
   "metadata": {},
   "outputs": [
    {
     "data": {
      "text/plain": [
       "0"
      ]
     },
     "execution_count": 10,
     "metadata": {},
     "output_type": "execute_result"
    }
   ],
   "source": [
    "if not os.path.exists(os.path.join(save_parent, 'vmem')):\n",
    "    os.makedirs(os.path.join(save_parent, 'vmem'))    \n",
    "\n",
    "for i in range(vmem.data.shape[0]):\n",
    "    num_save = \"{0:06d}\".format(i)\n",
    "    num = \"{0:05d}\".format((start+i)*2)\n",
    "    plt.imshow(vmem.data[i, :, :], cmap=vmem.cmap, vmin=vmem.vmin, vmax=vmem.vmax)\n",
    "    plt.xticks([])\n",
    "    plt.yticks([])\n",
    "    plt.text(7, 15, \"%s (ms)\" % num, color='white', fontsize=20)\n",
    "    plt.savefig(os.path.join(save_parent, 'vmem/%s.png')%num_save)\n",
    "    plt.close()\n",
    "    \n",
    "cmd = 'ffmpeg -r 30 -y -i \"{0}/vmem/%06d.png\" -c:v libx264 -pix_fmt yuv420p -qscale 0 \"{0}/vmem_movie.mp4\"'.format(save_parent)\n",
    "subprocess.call(cmd, shell=True)"
   ]
  },
  {
   "cell_type": "code",
   "execution_count": 48,
   "metadata": {},
   "outputs": [
    {
     "data": {
      "text/plain": [
       "0"
      ]
     },
     "execution_count": 48,
     "metadata": {},
     "output_type": "execute_result"
    }
   ],
   "source": [
    "if not os.path.exists(os.path.join(save_parent, 'vmem')):\n",
    "    os.makedirs(os.path.join(save_parent, 'vmem'))\n",
    "\n",
    "vmem.saveImage(os.path.join(save_parent, 'vmem'), img_type='png', skip=1)\n",
    "cmd = 'ffmpeg -r 60 -y -i \"{0}/vmem/%06d.png\" -c:v libx264 -pix_fmt yuv420p -qscale 0 \"{0}/vmem_movie.mp4\"'.format(save_parent)\n",
    "subprocess.call(cmd, shell=True)"
   ]
  },
  {
   "cell_type": "code",
   "execution_count": 24,
   "metadata": {},
   "outputs": [
    {
     "data": {
      "text/plain": [
       "0"
      ]
     },
     "execution_count": 24,
     "metadata": {},
     "output_type": "execute_result"
    }
   ],
   "source": [
    "pmap = PhaseMap(vmem, shrink=1)\n",
    "\n",
    "if not os.path.exists(os.path.join(save_parent, 'pmap')):\n",
    "    os.makedirs(os.path.join(save_parent, 'pmap'))\n",
    "\n",
    "pmap.saveImage(os.path.join(save_parent, 'pmap'), img_type='png', skip=1)\n",
    "cmd = 'ffmpeg -r 60 -y -i \"{0}/pmap/%06d.png\" -c:v libx264 -pix_fmt yuv420p -qscale 0 \"{0}/pmap_movie.mp4\"'.format(save_parent)\n",
    "subprocess.call(cmd, shell=True)"
   ]
  },
  {
   "cell_type": "code",
   "execution_count": 43,
   "metadata": {},
   "outputs": [
    {
     "data": {
      "text/plain": [
       "[<matplotlib.lines.Line2D at 0x7fe6b08964d0>]"
      ]
     },
     "execution_count": 43,
     "metadata": {},
     "output_type": "execute_result"
    },
    {
     "data": {
      "image/png": "[encoded data removed]",
      "text/plain": [
       "<matplotlib.figure.Figure at 0x7fe6b08c6750>"
      ]
     },
     "metadata": {},
     "output_type": "display_data"
    }
   ],
   "source": [
    "plt.plot(vmem.data[290:415, 60, 100])"
   ]
  },
  {
   "cell_type": "code",
   "execution_count": 37,
   "metadata": {},
   "outputs": [],
   "source": [
    "plt.subplot(2,1,1)\n",
    "plt.plot(vmem.data[400:900, 60, 100], color='g', label='w/o cooling')\n",
    "plt.title(\"w/o cooling\", size=20)\n",
    "plt.xticks([])\n",
    "plt.yticks([-0.10, 0.00, 0.10], size=14)\n",
    "plt.xlim([0, 500])\n",
    "plt.ylim([-0.1, 0.1])\n",
    "\n",
    "\n",
    "plt.subplot(2,1,2)\n",
    "plt.plot(vmem.data[400:900, 70, 70], color='b', label='w/ cooling')\n",
    "plt.title(\"w/ cooling\", size=20)\n",
    "plt.xticks([0, 100, 200, 300, 400, 500], [20.6, 20.8, 21.0, 21.2, 21.4, 21.6], size=14)\n",
    "plt.yticks([-0.10, 0.00, 0.10], size=14)\n",
    "\n",
    "plt.xlim([0, 500])\n",
    "plt.ylim([-0.1, 0.1])\n",
    "\n",
    "# plt.xlabel(\"Time (ms)\", size=14)\n",
    "# plt.ylabel('Normalized membrane potential (a.u.)', size=14)\n",
    "\n",
    "plt.tight_layout()\n",
    "\n",
    "plt.savefig('/mnt/Omer/Project/03.LinearRegionalCooling/AnalysisResult/Experiment/20181106-1/C001H001S0018/vmem.png', dpi=600)\n",
    "plt.close()"
   ]
  },
  {
   "cell_type": "markdown",
   "metadata": {},
   "source": [
    "### 20181106-1/C001H001S0020 (停止)"
   ]
  },
  {
   "cell_type": "code",
   "execution_count": 4,
   "metadata": {
    "collapsed": true
   },
   "outputs": [],
   "source": [
    "data_path = '/mnt/recordings/ExperimentData/20181106-1/C001H001S0020/'\n",
    "start = 9300\n",
    "end = 9800\n",
    "date = data_path.split('/')[-3]\n",
    "session_name = data_path.split('/')[-2]\n",
    "save_parent = os.path.join('/mnt/Omer/Project/03.LinearRegionalCooling/AnalysisResult/Experiment/', '%s/%s/%s-%s' % (date, session_name, start, end))"
   ]
  },
  {
   "cell_type": "code",
   "execution_count": 5,
   "metadata": {
    "collapsed": true
   },
   "outputs": [],
   "source": [
    "raw = RawCam(path=data_path, cam_type='sa4',\n",
    "             image_width=128, image_height=128, frame_start=start, frame_end=end)\n",
    "raw.setIntROI(90)\n",
    "raw.setRectROI(left=30)\n",
    "# raw.morphROI(closing=10)\n",
    "# raw.morphROI(erosion=3)"
   ]
  },
  {
   "cell_type": "code",
   "execution_count": 6,
   "metadata": {},
   "outputs": [
    {
     "data": {
      "image/png": "[encoded data removed]",
      "text/plain": [
       "<matplotlib.figure.Figure at 0x7fefebd562d0>"
      ]
     },
     "metadata": {},
     "output_type": "display_data"
    }
   ],
   "source": [
    "raw.showROI()"
   ]
  },
  {
   "cell_type": "code",
   "execution_count": 7,
   "metadata": {},
   "outputs": [
    {
     "data": {
      "text/plain": [
       "0"
      ]
     },
     "execution_count": 7,
     "metadata": {},
     "output_type": "execute_result"
    }
   ],
   "source": [
    "if not os.path.exists(os.path.join(save_parent, 'raw')):\n",
    "    os.makedirs(os.path.join(save_parent, 'raw'))\n",
    "\n",
    "raw.saveImage(os.path.join(save_parent, 'raw'), img_type='png', skip=1)\n",
    "cmd = 'ffmpeg -r 60 -y -i \"{0}/raw/%06d.png\" -c:v libx264 -pix_fmt yuv420p -qscale 0 \"{0}/raw_movie.mp4\"'.format(save_parent)\n",
    "subprocess.call(cmd, shell=True)"
   ]
  },
  {
   "cell_type": "code",
   "execution_count": 8,
   "metadata": {
    "collapsed": true
   },
   "outputs": [],
   "source": [
    "vmem = VmemMap(raw)\n",
    "vmem.setDiffRange(diff_min=20)\n",
    "# vmem.morphROI(closing=4)\n",
    "# vmem.morphROI(erosion=4)\n",
    "\n",
    "vmem.smooth(size=9)\n",
    "\n",
    "for i in range(vmem.data.shape[1]):\n",
    "    for j in range(vmem.data.shape[2]):\n",
    "        vmem.data[:, i, j] = FFT(vmem.data[:, i, j], vmem.data.shape[0], 0.002, fc_low=3, fc_high=50)\n",
    "#         im_range = (np.max(vmem.data[:, i, j]) - np.min(vmem.data[:, i, j])) + (np.max(vmem.data[:, i, j]) == np.min(vmem.data[:, i, j])) * 1\n",
    "#         vmem.data[:, i, j] = 2.0 * (vmem.data[:, i, j] - np.min(vmem.data[:, i, j])) / im_range - 1.0\n",
    "\n",
    "vmem.data = vmem.data * vmem.roi"
   ]
  },
  {
   "cell_type": "code",
   "execution_count": 51,
   "metadata": {},
   "outputs": [
    {
     "data": {
      "text/plain": [
       "[<matplotlib.lines.Line2D at 0x7f212e02b510>]"
      ]
     },
     "execution_count": 51,
     "metadata": {},
     "output_type": "execute_result"
    },
    {
     "data": {
      "image/png": "[encoded data removed]",
      "text/plain": [
       "<matplotlib.figure.Figure at 0x7f212e19aa10>"
      ]
     },
     "metadata": {},
     "output_type": "display_data"
    }
   ],
   "source": [
    "plt.plot(vmem.data[:, 60, 100])\n",
    "# plt.xlim([9000, 10000])"
   ]
  },
  {
   "cell_type": "code",
   "execution_count": 9,
   "metadata": {},
   "outputs": [
    {
     "data": {
      "text/plain": [
       "<matplotlib.colorbar.Colorbar at 0x7fefebc562d0>"
      ]
     },
     "execution_count": 9,
     "metadata": {},
     "output_type": "execute_result"
    },
    {
     "data": {
      "image/png": "[encoded data removed]",
      "text/plain": [
       "<matplotlib.figure.Figure at 0x7fefebacdad0>"
      ]
     },
     "metadata": {},
     "output_type": "display_data"
    }
   ],
   "source": [
    "plt.imshow(vmem.data[0, :, :], cmap=vmem.cmap, vmin=vmem.vmin, vmax=vmem.vmax)\n",
    "plt.text(7, 15, \"Text!\", color='white', fontsize=20)\n",
    "plt.colorbar()"
   ]
  },
  {
   "cell_type": "code",
   "execution_count": 10,
   "metadata": {},
   "outputs": [
    {
     "data": {
      "text/plain": [
       "0"
      ]
     },
     "execution_count": 10,
     "metadata": {},
     "output_type": "execute_result"
    }
   ],
   "source": [
    "if not os.path.exists(os.path.join(save_parent, 'vmem')):\n",
    "    os.makedirs(os.path.join(save_parent, 'vmem'))    \n",
    "\n",
    "for i in range(vmem.data.shape[0]):\n",
    "    num_save = \"{0:06d}\".format(i)\n",
    "    num = \"{0:05d}\".format((9300+i)*2)\n",
    "    plt.imshow(vmem.data[i, :, :], cmap=vmem.cmap, vmin=vmem.vmin, vmax=vmem.vmax)\n",
    "    plt.xticks([])\n",
    "    plt.yticks([])\n",
    "    plt.text(7, 15, \"%s (ms)\" % num, color='white', fontsize=20)\n",
    "    plt.savefig(os.path.join(save_parent, 'vmem/%s.png')%num_save)\n",
    "    plt.close()\n",
    "    \n",
    "cmd = 'ffmpeg -r 30 -y -i \"{0}/vmem/%06d.png\" -c:v libx264 -pix_fmt yuv420p -qscale 0 \"{0}/vmem_movie.mp4\"'.format(save_parent)\n",
    "subprocess.call(cmd, shell=True)"
   ]
  },
  {
   "cell_type": "code",
   "execution_count": 46,
   "metadata": {},
   "outputs": [
    {
     "data": {
      "text/plain": [
       "0"
      ]
     },
     "execution_count": 46,
     "metadata": {},
     "output_type": "execute_result"
    }
   ],
   "source": [
    "pmap = PhaseMap(vmem, shrink=1)\n",
    "\n",
    "if not os.path.exists(os.path.join(save_parent, 'pmap')):\n",
    "    os.makedirs(os.path.join(save_parent, 'pmap'))\n",
    "\n",
    "pmap.saveImage(os.path.join(save_parent, 'pmap'), img_type='png', skip=1)\n",
    "cmd = 'ffmpeg -r 30 -y -i \"{0}/pmap/%06d.png\" -c:v libx264 -pix_fmt yuv420p -qscale 0 \"{0}/pmap_movie.mp4\"'.format(save_parent)\n",
    "subprocess.call(cmd, shell=True)"
   ]
  },
  {
   "cell_type": "markdown",
   "metadata": {
    "collapsed": true
   },
   "source": [
    "##### 日本光電システムの波形確認"
   ]
  },
  {
   "cell_type": "code",
   "execution_count": 52,
   "metadata": {
    "collapsed": true
   },
   "outputs": [],
   "source": [
    "import pandas as pd\n",
    "\n",
    "sample = pd.read_csv('/mnt/Omer/Project/03.LinearRegionalCooling/AnalysisResult/Experiment/20181106-1/ECG/sample.csv',\n",
    "                     header=9, engine='python', encoding='us-ascii')\n",
    "S0018 = pd.read_csv('/mnt/Omer/Project/03.LinearRegionalCooling/AnalysisResult/Experiment/20181106-1/ECG/S0018.csv',\n",
    "                    header=9, engine='python', encoding='us-ascii')\n",
    "S0020 = pd.read_csv('/mnt/Omer/Project/03.LinearRegionalCooling/AnalysisResult/Experiment/20181106-1/ECG/S0020.csv',\n",
    "                    header=9, engine='python', encoding='us-ascii')\n",
    "S0021 = pd.read_csv('/mnt/Omer/Project/03.LinearRegionalCooling/AnalysisResult/Experiment/20181106-1/ECG/S0021.csv',\n",
    "                    header=9, engine='python', encoding='us-ascii')"
   ]
  },
  {
   "cell_type": "code",
   "execution_count": 53,
   "metadata": {
    "collapsed": true
   },
   "outputs": [],
   "source": [
    "a = sample[['mV.3']].values[:-1]\n",
    "a = a.astype(np.float64)"
   ]
  },
  {
   "cell_type": "code",
   "execution_count": 73,
   "metadata": {
    "collapsed": true
   },
   "outputs": [],
   "source": [
    "plt.plot(a[1950:3950])\n",
    "\n",
    "plt.xticks([0, 500, 1000, 1500, 2000], size=18)\n",
    "plt.yticks([-0.30, -0.20, -0.10, 0.00, 0.10], size=18)\n",
    "\n",
    "plt.xlim([0, 2000])\n",
    "\n",
    "plt.xlabel('Time (ms)', size=18)\n",
    "plt.ylabel('Electrode signal (mV)', size=18)\n",
    "\n",
    "plt.tight_layout()\n",
    "\n",
    "plt.savefig('/mnt/Omer/Project/03.LinearRegionalCooling/AnalysisResult/Experiment/20181106-1/ECG/ECG_sample.png', dpi=600, transparent=True)\n",
    "plt.close()"
   ]
  },
  {
   "cell_type": "code",
   "execution_count": 264,
   "metadata": {
    "collapsed": true
   },
   "outputs": [],
   "source": [
    "plt.plot(a[9500:10500], linewidth=3)\n",
    "plt.xticks([0, 500, 1000], [-36, -35.5, -35], size=20)\n",
    "plt.yticks(size=20)\n",
    "plt.ylim([-0.25, 0.25])\n",
    "plt.gca().spines['right'].set_visible(False)\n",
    "plt.gca().spines['top'].set_visible(False)\n",
    "plt.savefig('/mnt/Omer/Project/03.LinearRegionalCooling/AnalysisResult/Experiment/20181106-1/C001H001S0018/ECG_-36_-35.png', dpi=600, transparent=True)\n",
    "plt.close()"
   ]
  },
  {
   "cell_type": "code",
   "execution_count": 269,
   "metadata": {
    "collapsed": true
   },
   "outputs": [],
   "source": [
    "plt.plot(a[45000:46000], linewidth=3)\n",
    "plt.xticks([0, 500, 1000], [-0.5, 0, 0.5], size=20)\n",
    "plt.yticks([])\n",
    "plt.ylim([-0.25, 0.25])\n",
    "plt.gca().spines['right'].set_visible(False)\n",
    "plt.gca().spines['top'].set_visible(False)\n",
    "plt.gca().spines['left'].set_visible(False)\n",
    "plt.savefig('/mnt/Omer/Project/03.LinearRegionalCooling/AnalysisResult/Experiment/20181106-1/C001H001S0018/ECG_0.png', dpi=600, transparent=True)\n",
    "plt.close()"
   ]
  },
  {
   "cell_type": "code",
   "execution_count": 271,
   "metadata": {
    "collapsed": true
   },
   "outputs": [],
   "source": [
    "plt.plot(a[66000:67000], linewidth=3)\n",
    "plt.xticks([0, 500, 1000], [20.5, 21, 21.5], size=20)\n",
    "plt.yticks([])\n",
    "plt.ylim([-0.25, 0.25])\n",
    "plt.gca().spines['right'].set_visible(False)\n",
    "plt.gca().spines['top'].set_visible(False)\n",
    "plt.gca().spines['left'].set_visible(False)\n",
    "plt.savefig('/mnt/Omer/Project/03.LinearRegionalCooling/AnalysisResult/Experiment/20181106-1/C001H001S0018/ECG_21.png', dpi=600, transparent=True)\n",
    "plt.close()"
   ]
  },
  {
   "cell_type": "code",
   "execution_count": 275,
   "metadata": {
    "collapsed": true
   },
   "outputs": [],
   "source": [
    "plt.plot(a[87000:88000], linewidth=3)\n",
    "plt.xticks([0, 500, 1000], [41.5, 42, 42.5], size=20)\n",
    "plt.ylim([-0.25, 0.25])\n",
    "plt.yticks([])\n",
    "plt.gca().spines['right'].set_visible(False)\n",
    "plt.gca().spines['top'].set_visible(False)\n",
    "plt.gca().spines['left'].set_visible(False)\n",
    "plt.savefig('/mnt/Omer/Project/03.LinearRegionalCooling/AnalysisResult/Experiment/20181106-1/C001H001S0018/ECG_42.png', dpi=600, transparent=True)\n",
    "plt.close()"
   ]
  },
  {
   "cell_type": "markdown",
   "metadata": {},
   "source": [
    "# ペーシング動画"
   ]
  },
  {
   "cell_type": "code",
   "execution_count": 12,
   "metadata": {
    "collapsed": true
   },
   "outputs": [],
   "source": [
    "data_path = '/mnt/Jalife/ExperimentData/20180426-2/C001H001S0001/'\n",
    "start = 0\n",
    "end = 1000\n",
    "date = data_path.split('/')[-3]\n",
    "session_name = data_path.split('/')[-2]\n",
    "save_parent = os.path.join('/mnt/Omer/Project/03.LinearRegionalCooling/AnalysisResult/Experiment/', '%s/%s/%s-%s' % (date, session_name, start, end))"
   ]
  },
  {
   "cell_type": "code",
   "execution_count": 13,
   "metadata": {
    "collapsed": true
   },
   "outputs": [],
   "source": [
    "raw = RawCam(path=data_path, cam_type='sa4',\n",
    "             image_width=512, image_height=512, frame_start=start, frame_end=end)\n",
    "raw.setIntROI(150)\n",
    "# raw.setRectROI(left=30)\n",
    "# raw.morphROI(closing=10)\n",
    "# raw.morphROI(erosion=3)"
   ]
  },
  {
   "cell_type": "code",
   "execution_count": 31,
   "metadata": {
    "collapsed": true
   },
   "outputs": [],
   "source": [
    "vmem = VmemMap(raw)\n",
    "vmem.setDiffRange(diff_min=20)\n",
    "# vmem.morphROI(closing=4)\n",
    "# vmem.morphROI(erosion=4)\n",
    "\n",
    "vmem.smooth(size=9)\n",
    "\n",
    "# for i in range(vmem.data.shape[1]):\n",
    "#     for j in range(vmem.data.shape[2]):\n",
    "#         vmem.data[:, i, j] = FFT(vmem.data[:, i, j], vmem.data.shape[0], 0.002, fc_low=4, fc_high=50)\n",
    "#         im_range = (np.max(vmem.data[:, i, j]) - np.min(vmem.data[:, i, j])) + (np.max(vmem.data[:, i, j]) == np.min(vmem.data[:, i, j])) * 1\n",
    "#         vmem.data[:, i, j] = 2.0 * (vmem.data[:, i, j] - np.min(vmem.data[:, i, j])) / im_range - 1.0\n",
    "\n",
    "# vmem.data = vmem.data * vmem.roi"
   ]
  },
  {
   "cell_type": "code",
   "execution_count": 8,
   "metadata": {},
   "outputs": [
    {
     "data": {
      "text/plain": [
       "0"
      ]
     },
     "execution_count": 8,
     "metadata": {},
     "output_type": "execute_result"
    }
   ],
   "source": [
    "if not os.path.exists(os.path.join(save_parent, 'vmem')):\n",
    "    os.makedirs(os.path.join(save_parent, 'vmem'))\n",
    "\n",
    "vmem.saveImage(os.path.join(save_parent, 'vmem'), img_type='png', skip=1)\n",
    "cmd = 'ffmpeg -r 30 -y -i \"{0}/vmem/%06d.png\" -c:v libx264 -pix_fmt yuv420p -qscale 0 \"{0}/vmem_movie.mp4\"'.format(save_parent)\n",
    "subprocess.call(cmd, shell=True)"
   ]
  },
  {
   "cell_type": "code",
   "execution_count": 51,
   "metadata": {
    "collapsed": true
   },
   "outputs": [],
   "source": [
    "# plt.plot(FFT(vmem.data[:, 256, 256], vmem.data.shape[0], 0.001, fc_low=3, fc_high=100))\n",
    "v = vmem.data[:, 256, 256]\n",
    "plt.plot((v - np.min(v))/(np.max(v)-np.min(v)))\n",
    "\n",
    "plt.xlim([0, 250])\n",
    "plt.ylim([0, 1])\n",
    "\n",
    "plt.xticks(size=14)\n",
    "plt.yticks(size=14)\n",
    "\n",
    "plt.xlabel('Time (ms)', size=14)\n",
    "plt.ylabel('Normalized Membrane potential (a.u.)', size=14)\n",
    "\n",
    "plt.tight_layout()\n",
    "plt.savefig('/mnt/Omer/Project/03.LinearRegionalCooling/AnalysisResult/Experiment/membrane.png', dpi=600)\n",
    "plt.close()"
   ]
  },
  {
   "cell_type": "code",
   "execution_count": null,
   "metadata": {
    "collapsed": true
   },
   "outputs": [],
   "source": []
  }
 ],
 "metadata": {
  "kernelspec": {
   "display_name": "Python 2",
   "language": "python",
   "name": "python2"
  },
  "language_info": {
   "codemirror_mode": {
    "name": "ipython",
    "version": 2
   },
   "file_extension": ".py",
   "mimetype": "text/x-python",
   "name": "python",
   "nbconvert_exporter": "python",
   "pygments_lexer": "ipython2",
   "version": "2.7.13"
  }
 },
 "nbformat": 4,
 "nbformat_minor": 2
}
