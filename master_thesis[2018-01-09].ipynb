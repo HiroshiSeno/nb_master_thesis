{
 "cells": [
  {
   "cell_type": "code",
   "execution_count": 1,
   "metadata": {
    "collapsed": true
   },
   "outputs": [],
   "source": [
    "import numpy as np\n",
    "import matplotlib.pyplot as plt\n",
    "import os\n",
    "import subprocess\n",
    "%matplotlib inline"
   ]
  },
  {
   "cell_type": "markdown",
   "metadata": {},
   "source": [
    "# APDを計測"
   ]
  },
  {
   "cell_type": "code",
   "execution_count": 4,
   "metadata": {},
   "outputs": [],
   "source": [
    "vmem_310 = np.zeros(300)\n",
    "vmem_308 = np.zeros(300)\n",
    "vmem_306 = np.zeros(300)\n",
    "vmem_304 = np.zeros(300)\n",
    "vmem_302 = np.zeros(300)\n",
    "\n",
    "for i in range(300):\n",
    "    num = \"{0:05d}\".format(i+8701)\n",
    "    vmem_310[i] = np.load('/mnt/recordings/SimulationResults/2D/20171020-1/%s/v.npy'%num)\n",
    "    vmem_308[i] = np.load('/mnt/recordings/SimulationResults/2D/20171020-2/%s/v.npy'%num)\n",
    "    vmem_306[i] = np.load('/mnt/recordings/SimulationResults/2D/20171020-3/%s/v.npy'%num)\n",
    "    vmem_304[i] = np.load('/mnt/recordings/SimulationResults/2D/20171020-4/%s/v.npy'%num)\n",
    "    vmem_302[i] = np.load('/mnt/recordings/SimulationResults/2D/20171020-5/%s/v.npy'%num)"
   ]
  },
  {
   "cell_type": "code",
   "execution_count": 7,
   "metadata": {
    "collapsed": true
   },
   "outputs": [],
   "source": [
    "plt.plot(vmem_310, label='37 KK')\n",
    "plt.plot(vmem_308, label='35 KK')\n",
    "plt.plot(vmem_306, label='33 KK')\n",
    "plt.plot(vmem_304, label='31 KK')\n",
    "plt.plot(vmem_302, label='29 KK')\n",
    "plt.legend(fontsize=15)\n",
    "plt.tight_layout()\n",
    "plt.savefig('/mnt/recordings/AnalysisResult/Seno/simulation/Mahajan/20180109/APD_cooling.png', dpi=300)\n",
    "plt.close()"
   ]
  },
  {
   "cell_type": "markdown",
   "metadata": {},
   "source": [
    "# 冷却位置を表す図"
   ]
  },
  {
   "cell_type": "code",
   "execution_count": 13,
   "metadata": {},
   "outputs": [],
   "source": [
    "color_image = np.zeros((100,100,3))\n",
    "center_x = 62.5\n",
    "center_y = 62.5\n",
    "for i in range(100):\n",
    "    for j in range(100):\n",
    "        if (i-center_y)*(i-center_y)+(j-center_x)*(j-center_x) < 225:\n",
    "            color_image[i, j, 2] = 1.0\n",
    "        if (i-50)*(i-50)+(j-50)*(j-50) < 25:\n",
    "            color_image[i, j, 1] = 1.0\n",
    "\n",
    "color_image[50,50,:] = 1.0\n",
    "color_image[int(center_y), int(center_x), :] = 1.0"
   ]
  },
  {
   "cell_type": "code",
   "execution_count": 15,
   "metadata": {},
   "outputs": [],
   "source": [
    "plt.imsave('/mnt/recordings/AnalysisResult/Seno/simulation/Mahajan/20180109/down_right.png', color_image)"
   ]
  },
  {
   "cell_type": "code",
   "execution_count": 18,
   "metadata": {
    "collapsed": true
   },
   "outputs": [],
   "source": [
    "color_image = np.zeros((100,100,3))\n",
    "center_x = 67.5\n",
    "center_y = 50\n",
    "for i in range(100):\n",
    "    for j in range(100):\n",
    "        if (i-center_y)*(i-center_y)+(j-center_x)*(j-center_x) < 225:\n",
    "            color_image[i, j, 2] = 1.0\n",
    "        if (i-50)*(i-50)+(j-50)*(j-50) < 25:\n",
    "            color_image[i, j, 1] = 1.0\n",
    "\n",
    "color_image[50,50,:] = 1.0\n",
    "color_image[int(center_y), int(center_x), :] = 1.0\n",
    "plt.imsave('/mnt/recordings/AnalysisResult/Seno/simulation/Mahajan/20180109/right.png', color_image)"
   ]
  },
  {
   "cell_type": "code",
   "execution_count": 19,
   "metadata": {
    "collapsed": true
   },
   "outputs": [],
   "source": [
    "color_image = np.zeros((100,100,3))\n",
    "center_x = 62.5\n",
    "center_y = 37.5\n",
    "for i in range(100):\n",
    "    for j in range(100):\n",
    "        if (i-center_y)*(i-center_y)+(j-center_x)*(j-center_x) < 225:\n",
    "            color_image[i, j, 2] = 1.0\n",
    "        if (i-50)*(i-50)+(j-50)*(j-50) < 25:\n",
    "            color_image[i, j, 1] = 1.0\n",
    "\n",
    "color_image[50,50,:] = 1.0\n",
    "color_image[int(center_y), int(center_x), :] = 1.0\n",
    "plt.imsave('/mnt/recordings/AnalysisResult/Seno/simulation/Mahajan/20180109/upper_right.png', color_image)"
   ]
  },
  {
   "cell_type": "code",
   "execution_count": 20,
   "metadata": {
    "collapsed": true
   },
   "outputs": [],
   "source": [
    "color_image = np.zeros((100,100,3))\n",
    "center_x = 50\n",
    "center_y = 32.5\n",
    "for i in range(100):\n",
    "    for j in range(100):\n",
    "        if (i-center_y)*(i-center_y)+(j-center_x)*(j-center_x) < 225:\n",
    "            color_image[i, j, 2] = 1.0\n",
    "        if (i-50)*(i-50)+(j-50)*(j-50) < 25:\n",
    "            color_image[i, j, 1] = 1.0\n",
    "\n",
    "color_image[50,50,:] = 1.0\n",
    "color_image[int(center_y), int(center_x), :] = 1.0\n",
    "plt.imsave('/mnt/recordings/AnalysisResult/Seno/simulation/Mahajan/20180109/upper.png', color_image)"
   ]
  },
  {
   "cell_type": "code",
   "execution_count": null,
   "metadata": {
    "collapsed": true
   },
   "outputs": [],
   "source": []
  }
 ],
 "metadata": {
  "kernelspec": {
   "display_name": "Python 2",
   "language": "python",
   "name": "python2"
  },
  "language_info": {
   "codemirror_mode": {
    "name": "ipython",
    "version": 2
   },
   "file_extension": ".py",
   "mimetype": "text/x-python",
   "name": "python",
   "nbconvert_exporter": "python",
   "pygments_lexer": "ipython2",
   "version": "2.7.13"
  }
 },
 "nbformat": 4,
 "nbformat_minor": 2
}
