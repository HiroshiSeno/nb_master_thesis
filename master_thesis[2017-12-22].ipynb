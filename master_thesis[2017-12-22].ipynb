{
 "cells": [
  {
   "cell_type": "code",
   "execution_count": 1,
   "metadata": {
    "collapsed": true
   },
   "outputs": [],
   "source": [
    "import numpy as np\n",
    "import matplotlib.pyplot as plt\n",
    "import os\n",
    "import subprocess\n",
    "%matplotlib inline"
   ]
  },
  {
   "cell_type": "code",
   "execution_count": 2,
   "metadata": {
    "collapsed": true
   },
   "outputs": [],
   "source": [
    "from opmap.RawCam import RawCam\n",
    "from opmap.VmemMap import VmemMap\n",
    "from opmap.PhaseMap import PhaseMap\n",
    "from opmap.PhaseVarianceMap import PhaseVarianceMap\n",
    "from opmap.util import makeMovie"
   ]
  },
  {
   "cell_type": "markdown",
   "metadata": {},
   "source": [
    "## 上冷却の解析"
   ]
  },
  {
   "cell_type": "code",
   "execution_count": 3,
   "metadata": {
    "collapsed": true
   },
   "outputs": [],
   "source": [
    "vmem1 = np.zeros((600, 200, 200))\n",
    "vmem2 = np.zeros((400, 200, 200))\n",
    "\n",
    "for i in range(600):\n",
    "    vmem1[i, :, :] = np.load('/mnt/recordings/SimulationResults/2D/20170711-6/vmem_%s.npy' % \"{0:04d}\".format(i))\n",
    "for i in range(400):\n",
    "    vmem2[i, :, :] = np.load('/mnt/recordings/SimulationResults/2D/20170714-4/vmem_%s.npy' % \"{0:04d}\".format(i))"
   ]
  },
  {
   "cell_type": "code",
   "execution_count": 4,
   "metadata": {
    "collapsed": true
   },
   "outputs": [],
   "source": [
    "vmem_u = np.concatenate([vmem1, vmem2], axis=0)"
   ]
  },
  {
   "cell_type": "code",
   "execution_count": 11,
   "metadata": {
    "collapsed": true
   },
   "outputs": [],
   "source": [
    "raw = RawCam(path='/mnt/recordings/SimulationResults/2D/20170711-6/', cam_type='numpy', image_width=200, image_height=200, frame_start=0, frame_end=10)\n",
    "raw.data = vmem_u"
   ]
  },
  {
   "cell_type": "code",
   "execution_count": 12,
   "metadata": {
    "collapsed": true
   },
   "outputs": [],
   "source": [
    "vmem = VmemMap(raw)"
   ]
  },
  {
   "cell_type": "code",
   "execution_count": 13,
   "metadata": {
    "collapsed": true
   },
   "outputs": [],
   "source": [
    "pmap = PhaseMap(vmem, shrink=2)"
   ]
  },
  {
   "cell_type": "code",
   "execution_count": 14,
   "metadata": {
    "collapsed": true
   },
   "outputs": [],
   "source": [
    "pvmap = PhaseVarianceMap(pmap, size=3)"
   ]
  },
  {
   "cell_type": "code",
   "execution_count": 128,
   "metadata": {
    "collapsed": true
   },
   "outputs": [],
   "source": [
    "core = (pvmap.data > 0.4)* 1\n",
    "core = core[:410, :, :]"
   ]
  },
  {
   "cell_type": "code",
   "execution_count": 129,
   "metadata": {
    "collapsed": true
   },
   "outputs": [],
   "source": [
    "import scipy\n",
    "log_core = []\n",
    "for frame in range(core.shape[0]):\n",
    "  im_label = core[frame,:,:]\n",
    "  im_bin = (im_label>0)*1\n",
    "  im_label_tmp, n = scipy.ndimage.label(im_bin)\n",
    "  coms = scipy.ndimage.measurements.center_of_mass(im_bin, im_label_tmp, range(1,n+1))\n",
    "  for i in range(1, n+1):\n",
    "    label=np.max(((im_label_tmp==i)*1)*im_label)\n",
    "    log_core.append((frame, label, coms[i-1][0], coms[i-1][1]))"
   ]
  },
  {
   "cell_type": "code",
   "execution_count": 133,
   "metadata": {
    "collapsed": true
   },
   "outputs": [],
   "source": [
    "for i in range(400):\n",
    "    output_data = np.zeros((100, 100))\n",
    "    time = i+10\n",
    "    width = 1\n",
    "    for item in log_core:\n",
    "        if item[0] == time and item[1] == 1:\n",
    "            x = int(float(item[3]))\n",
    "            y = int(float(item[2]))\n",
    "            output_data[y-width:y+width, x-width:x+width] = 1\n",
    "            plt.imshow(output_data, cmap='gray')\n",
    "            plt.xticks([])\n",
    "            plt.yticks([])\n",
    "            plt.savefig('/mnt/recordings/AnalysisResult/Seno/simulation/Mahajan/20171222/20170711-6/%s.png'%\"{0:04d}\".format(i), dpi=300)\n",
    "            plt.close()"
   ]
  },
  {
   "cell_type": "code",
   "execution_count": 135,
   "metadata": {},
   "outputs": [
    {
     "data": {
      "text/plain": [
       "0"
      ]
     },
     "execution_count": 135,
     "metadata": {},
     "output_type": "execute_result"
    }
   ],
   "source": [
    "cmd = 'ffmpeg -r 30 -y -i \"{0}/%04d.png\" -c:v libx264 -pix_fmt yuv420p -qscale 0 \"{0}/movie.mp4\"'.format('/mnt/recordings/AnalysisResult/Seno/simulation/Mahajan/20171222/20170711-6/')\n",
    "subprocess.call(cmd, shell=True)"
   ]
  },
  {
   "cell_type": "markdown",
   "metadata": {},
   "source": [
    "## 右上冷却の解析"
   ]
  },
  {
   "cell_type": "code",
   "execution_count": 5,
   "metadata": {
    "collapsed": true
   },
   "outputs": [],
   "source": [
    "vmem1 = np.zeros((400, 200, 200))\n",
    "vmem2 = np.zeros((200, 200, 200))\n",
    "vmem3 = np.zeros((400, 200, 200))\n",
    "\n",
    "for i in range(200):\n",
    "    vmem2[i, :, :] = np.load('/mnt/recordings/SimulationResults/2D/20170713-3/vmem_%s.npy' % \"{0:04d}\".format(i))\n",
    "for i in range(400):\n",
    "    vmem1[i, :, :] = np.load('/mnt/recordings/SimulationResults/2D/20170711-5/vmem_%s.npy' % \"{0:04d}\".format(i))\n",
    "    vmem3[i, :, :] = np.load('/mnt/recordings/SimulationResults/2D/20170714-3/vmem_%s.npy' % \"{0:04d}\".format(i))"
   ]
  },
  {
   "cell_type": "code",
   "execution_count": 6,
   "metadata": {
    "collapsed": true
   },
   "outputs": [],
   "source": [
    "vmem_ru = np.concatenate([vmem1, vmem2, vmem3], axis=0)"
   ]
  },
  {
   "cell_type": "markdown",
   "metadata": {},
   "source": [
    "## 右冷却の解析"
   ]
  },
  {
   "cell_type": "code",
   "execution_count": 7,
   "metadata": {
    "collapsed": true
   },
   "outputs": [],
   "source": [
    "vmem1 = np.zeros((400, 200, 200))\n",
    "vmem2 = np.zeros((200, 200, 200))\n",
    "vmem3 = np.zeros((400, 200, 200))\n",
    "\n",
    "for i in range(200):\n",
    "    vmem2[i, :, :] = np.load('/mnt/recordings/SimulationResults/2D/20170713-2/vmem_%s.npy' % \"{0:04d}\".format(i))\n",
    "for i in range(400):\n",
    "    vmem1[i, :, :] = np.load('/mnt/recordings/SimulationResults/2D/20170711-4/vmem_%s.npy' % \"{0:04d}\".format(i))\n",
    "    vmem3[i, :, :] = np.load('/mnt/recordings/SimulationResults/2D/20170714-2/vmem_%s.npy' % \"{0:04d}\".format(i))"
   ]
  },
  {
   "cell_type": "code",
   "execution_count": 8,
   "metadata": {
    "collapsed": true
   },
   "outputs": [],
   "source": [
    "vmem_r = np.concatenate([vmem1, vmem2, vmem3], axis=0)"
   ]
  },
  {
   "cell_type": "markdown",
   "metadata": {},
   "source": [
    "## 右下冷却の解析"
   ]
  },
  {
   "cell_type": "code",
   "execution_count": 9,
   "metadata": {
    "collapsed": true
   },
   "outputs": [],
   "source": [
    "vmem1 = np.zeros((200, 200, 200))\n",
    "vmem2 = np.zeros((200, 200, 200))\n",
    "vmem3 = np.zeros((200, 200, 200))\n",
    "vmem4 = np.zeros((400, 200, 200))\n",
    "\n",
    "for i in range(200):\n",
    "    vmem1[i, :, :] = np.load('/mnt/recordings/SimulationResults/2D/20170711-2/vmem_%s.npy' % \"{0:04d}\".format(i))\n",
    "    vmem2[i, :, :] = np.load('/mnt/recordings/SimulationResults/2D/20170711-3/vmem_%s.npy' % \"{0:04d}\".format(i))\n",
    "    vmem3[i, :, :] = np.load('/mnt/recordings/SimulationResults/2D/20170713-1/vmem_%s.npy' % \"{0:04d}\".format(i))\n",
    "for i in range(400):\n",
    "    vmem4[i, :, :] = np.load('/mnt/recordings/SimulationResults/2D/20170714-1/vmem_%s.npy' % \"{0:04d}\".format(i))"
   ]
  },
  {
   "cell_type": "code",
   "execution_count": 10,
   "metadata": {
    "collapsed": true
   },
   "outputs": [],
   "source": [
    "vmem_rd = np.concatenate([vmem1, vmem2, vmem3, vmem4], axis=0)"
   ]
  },
  {
   "cell_type": "code",
   "execution_count": null,
   "metadata": {
    "collapsed": true
   },
   "outputs": [],
   "source": []
  }
 ],
 "metadata": {
  "kernelspec": {
   "display_name": "Python 2",
   "language": "python",
   "name": "python2"
  },
  "language_info": {
   "codemirror_mode": {
    "name": "ipython",
    "version": 2
   },
   "file_extension": ".py",
   "mimetype": "text/x-python",
   "name": "python",
   "nbconvert_exporter": "python",
   "pygments_lexer": "ipython2",
   "version": "2.7.13"
  }
 },
 "nbformat": 4,
 "nbformat_minor": 2
}
